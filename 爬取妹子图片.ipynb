{
 "cells": [
  {
   "cell_type": "markdown",
   "metadata": {},
   "source": [
    "# 爬妹子图片"
   ]
  },
  {
   "cell_type": "markdown",
   "metadata": {},
   "source": [
    "## 各个模块调试 "
   ]
  },
  {
   "cell_type": "markdown",
   "metadata": {},
   "source": [
    "### 看爬的内容 "
   ]
  },
  {
   "cell_type": "code",
   "execution_count": 4,
   "metadata": {
    "collapsed": true
   },
   "outputs": [],
   "source": [
    "import requests\n",
    "from bs4 import BeautifulSoup\n",
    "import urllib.request\n",
    "import urllib\n"
   ]
  },
  {
   "cell_type": "code",
   "execution_count": 5,
   "metadata": {
    "collapsed": false
   },
   "outputs": [],
   "source": [
    "url=\"http://www.meizitu.com/\"\n",
    "head = {'User-Agent':'Mozilla/5.0 (Windows; U; Windows NT 6.1; en-US; rv:1.9.1.6) Gecko/20091201 Firefox/3.5.6'}\n",
    "response = requests.get(url,headers=head)\n",
    "soup = BeautifulSoup(response.text,'lxml')"
   ]
  },
  {
   "cell_type": "code",
   "execution_count": 6,
   "metadata": {
    "collapsed": false
   },
   "outputs": [
    {
     "data": {
      "text/plain": [
       "['html PUBLIC \"-//W3C//DTD XHTML 1.0 Transitional//EN\" \"http://www.w3.org/TR/xhtml1/DTD/xhtml1-transitional.dtd\"',\n",
       " <html xmlns=\"http://www.w3.org/1999/xhtml\">\n",
       " <head>\n",
       " <meta content=\"text/html; charset=utf-8\" http-equiv=\"Content-Type\"/>\n",
       " <meta content=\"no-siteapp\" http-equiv=\"Cache-Control\"/>\n",
       " <title>ÃÃ×ÓÍ¼ - Çå´¿ÃÀÅ®,¿É°®ÃÀÅ®,ÃÀÅ®Í¼Æ¬</title>\n",
       " <meta content=\"ÃÃ×ÓÍ¼,Çå´¿ÃÀÅ®,¿É°®ÃÀÅ®,ÃÀÅ®Í¼Æ¬,ÈíÃÃ×Ó\" name=\"keywords\"/>\n",
       " <link href=\"http://www.meizitu.com/rss.php\" rel=\"alternate\" type=\"application/rss+xml\"/>\n",
       " <link href=\"target\" media=\"handheld\" rel=\"alternate\" type=\"application/vnd.wap.xhtml+xml\"/>\n",
       " <script type=\"text/javascript\">\n",
       " if(/AppleWebKit.*mobile/i.test(navigator.userAgent) || (/MIDP|SymbianOS|NOKIA|SAMSUNG|LG|NEC|TCL|Alcatel|BIRD|DBTEL|Dopod|PHILIPS|HAIER|LENOVO|MOT-|Nokia|SonyEricsson|SIE-|Amoi|ZTE/.test(navigator.userAgent))){\n",
       "     if(window.location.href.indexOf(\"?mobile\")<0){\n",
       "         try{\n",
       "             if(/Android|webOS|iPhone|iPod|BlackBerry/i.test(navigator.userAgent)){\n",
       "                 window.location.href=\"http://m.meizitu.com\";\n",
       "             }else if(/iPad/i.test(navigator.userAgent)){\n",
       "                 window.location.href=\"http://m.meizitu.com\";\n",
       "             }else{\n",
       "                 window.location.href=\"http://m.meizitu.com\"\n",
       "             }\n",
       "         }catch(e){}\n",
       "     }\n",
       " }\n",
       " </script>\n",
       " <meta content=\"ÎÞÂÛÊÇÐ¡ÇåÐÂ,Ä£ÌØ,»¹ÊÇÆäËûÃÃ×Ó,ÎÒÃÇÃ¿Ìì¶¼¾«ÌôÏ¸Ñ¡,¾«²ÊµÄÃÃ×ÓÍ¼Ã¿Ìì¶¼ÓÐ²»Ò»ÑùµÄ³ÊÏÖ\" name=\"description\"/>\n",
       " <link href=\"http://www.meizitu.com/templets/meizi/css/init.css\" rel=\"stylesheet\" type=\"text/css\"/>\n",
       " <link href=\"http://www.meizitu.com/templets/meizi/css/style.css\" rel=\"stylesheet\" type=\"text/css\"/>\n",
       " <link href=\"http://www.meizitu.com/templets/meizi/css/wp_page_numbers.css\" rel=\"stylesheet\" type=\"text/css\"/>\n",
       " <script src=\"http://www.meizitu.com/templets/meizi/js/jquery.min.js\" type=\"text/javascript\"></script>\n",
       " <script>\n",
       " var _hmt = _hmt || [];\n",
       " (function() {\n",
       "   var hm = document.createElement(\"script\");\n",
       "   hm.src = \"//hm.baidu.com/hm.js?a01ff1f91d0b936673f038453940cdb9\";\n",
       "   var s = document.getElementsByTagName(\"script\")[0]; \n",
       "   s.parentNode.insertBefore(hm, s);\n",
       " })();\n",
       " </script>\n",
       " </head>\n",
       " <body>\n",
       " <div id=\"wrapper\">\n",
       " <div id=\"header\">\n",
       " <h1><a href=\"http://www.meizitu.com/\"><span>ÃÃ×ÓÍ¼</span></a></h1>\n",
       " <div class=\"toplink\">[ <span style=\"color:red\">ÃÃ×ÓÍ¼µÄÈ«Æ´£¬·Ç³£ºÃ¼Ç£¡</span>] <span>Î¢ÐÅºÅ£ºmeizitu_com</span><a href=\"http://www.meizitu.com/aboutus.html\" rel=\"nofollow\">¹ØÓÚÃÃ×ÓÍ¼</a></div>\n",
       " </div>\n",
       " <div id=\"container\">\n",
       " <div id=\"subcontent clearfix\">\n",
       " <div class=\"picnew clearfix\">\n",
       " <ul>\n",
       " <li><a href=\"http://www.meizitu.com/a/5317.html\" target=\"_blank\"><img alt=\"Ã¿ÌìÕö¿ªÑÛ¿´µ½ÃÀºÃµÄÄã£¬±ãÊÇÐÒ\" height=\"64\" src=\"http://pic.meizitu.com/wp-content/uploads/2016a/02/26/limg.jpg\" width=\"64\"/></a></li>\n",
       " <li><a href=\"http://www.meizitu.com/a/5318.html\" target=\"_blank\"><img alt=\"ÓÐ×ÔÐÅÃÔÈËµÄÐ¦ÈÝ£¬Ã¿Ìì¶¼ÊÇ²ÓÀÃ\" height=\"64\" src=\"http://pic.meizitu.com/wp-content/uploads/2016a/02/27/limg.jpg\" width=\"64\"/></a></li>\n",
       " <li><a href=\"http://www.meizitu.com/a/5339.html\" target=\"_blank\"><img alt=\"ÆøÖÊÉí²Ä¾ã¼ÑµÄÅ®Éñ£¬Ð¦ÆðÀ´·Ç³£\" height=\"64\" src=\"http://pic.meizitu.com/wp-content/uploads/2016a/03/19/limg.jpg\" width=\"64\"/></a></li>\n",
       " <li><a href=\"http://www.meizitu.com/a/5320.html\" target=\"_blank\"><img alt=\"ÉîÒ¹³©ÁÄ£¬ÄÄÕÅÍ¼×îÎüÒýÄãÑÛÇò£¿\" height=\"64\" src=\"http://pic.meizitu.com/wp-content/uploads/2016a/02/29/limg.jpg\" width=\"64\"/></a></li>\n",
       " <li><a href=\"http://www.meizitu.com/a/5340.html\" target=\"_blank\"><img alt=\"ÇåÁ¹Ò»ÏÄµÄ¾øÃÀÃÃ×ÓÎªÄãÏ×ÉÏ·ÉÎÇ\" height=\"64\" src=\"http://pic.meizitu.com/wp-content/uploads/2016a/03/20/limg.jpg\" width=\"64\"/></a></li>\n",
       " <li><a href=\"http://www.meizitu.com/a/5319.html\" target=\"_blank\"><img alt=\"¿É°®ÃÈÃÈßÕµÄÐ¡ÂùÑüÅÝÔè¼Ç\" height=\"64\" src=\"http://pic.meizitu.com/wp-content/uploads/2016a/02/28/limg.jpg\" width=\"64\"/></a></li>\n",
       " <li><a href=\"http://www.meizitu.com/a/5327.html\" target=\"_blank\"><img alt=\"»°ÌâÖ®¡ª¡ªÑ°ÕÒNBA×îÃÀÀ­À­¶ÓÔ±\" height=\"64\" src=\"http://pic.meizitu.com/wp-content/uploads/2016a/03/07/limg.jpg\" width=\"64\"/></a></li>\n",
       " <li><a href=\"http://www.meizitu.com/a/5332.html\" target=\"_blank\"><img alt=\"ÃÀ£¨bao£©ÐØ£¨ru£©Å®Íõ´øÀ´ÖÆ·þ\" height=\"64\" src=\"http://pic.meizitu.com/wp-content/uploads/2016a/03/12/limg.jpg\" width=\"64\"/></a></li>\n",
       " <li><a href=\"http://www.meizitu.com/a/5324.html\" target=\"_blank\"><img alt=\"·áÂúÈâ¸ÐµÄÈÕ±¾ÃÀÐØÅ®ÉñóãÆé°®ÏÄ\" height=\"64\" src=\"http://pic.meizitu.com/wp-content/uploads/2016a/03/04/limg.jpg\" width=\"64\"/></a></li>\n",
       " <li><a href=\"http://www.meizitu.com/a/5331.html\" target=\"_blank\"><img alt=\"³¤ÍÈÄÛÄ£´°Ì¨Ç°ÁÃ¶¯Ðã·¢£¬ÍðÈçÃÀ\" height=\"64\" src=\"http://pic.meizitu.com/wp-content/uploads/2016a/03/11/limg.jpg\" width=\"64\"/></a></li>\n",
       " <li><a href=\"http://www.meizitu.com/a/5325.html\" target=\"_blank\"><img alt=\"ÄÇÐ©Çå´¿µÄÑøÑÛÃÀÅ®Í¼Æ¬-23\" height=\"64\" src=\"http://pic.meizitu.com/wp-content/uploads/2016a/03/05/limg.jpg\" width=\"64\"/></a></li>\n",
       " </ul>\n",
       " </div>\n",
       " <div class=\"tags\">\n",
       " <h2>ÃÀÅ®·ÖÀà:</h2>\n",
       " <span>\n",
       " <a href=\"http://www.meizitu.com/a/xinggan.html\" target=\"_blank\" title=\"ÐÔ¸Ð\">ÐÔ¸Ð</a>\n",
       " <a href=\"http://www.meizitu.com/a/xinggan.html\" target=\"_blank\" title=\"Ô¡ÊÒ\">Ô¡ÊÒ</a>\n",
       " <a href=\"http://www.meizitu.com/a/sifang.html\" target=\"_blank\" title=\"Ë½·¿\">Ë½·¿</a>\n",
       " <a href=\"http://www.meizitu.com/a/sifang.html\" target=\"_blank\" title=\"ÃÀÍÈ\">ÃÀÍÈ</a>\n",
       " <a href=\"http://www.meizitu.com/a/qingchun.html\" target=\"_blank\" title=\"Çå´¿\">Çå´¿</a>\n",
       " <a href=\"http://www.meizitu.com/a/qingchun.html\" target=\"_blank\" title=\"ÌðÃÀ\">ÌðÃÀ</a>\n",
       " <a href=\"http://www.meizitu.com/a/qingchun.html\" target=\"_blank\" title=\"ÖÎÓúÏµ\">ÖÎÓúÏµ</a>\n",
       " <a href=\"http://www.meizitu.com/a/meizi.html\" target=\"_blank\" title=\"ÃÈÃÃ×Ó\">ÃÈÃÃ×Ó</a>\n",
       " <a href=\"http://www.meizitu.com/a/xiaoqingxin.htm\" target=\"_blank\" title=\"Ð¡ÇåÐÂ\">Ð¡ÇåÐÂ</a>\n",
       " <a href=\"http://www.meizitu.com/a/nvshen.html\" target=\"_blank\" title=\"Å®Éñ\">Å®Éñ</a>\n",
       " <a href=\"http://www.meizitu.com/a/qizhi.html\" target=\"_blank\" title=\"ÆøÖÊÃÀÅ®\">ÆøÖÊÃÀÅ®</a>\n",
       " <a href=\"http://www.meizitu.com/a/mote.html\" target=\"_blank\" title=\"ÄÛÄ£\">ÄÛÄ£</a>\n",
       " <a href=\"http://www.meizitu.com/a/mote.html\" target=\"_blank\" title=\"³µÄ£\">³µÄ£</a>\n",
       " <a href=\"http://www.meizitu.com/a/bijini.html\" target=\"_blank\" title=\"±È»ùÄá\">±È»ùÄá</a>\n",
       " <a href=\"http://www.meizitu.com/a/baobei.html\" target=\"_blank\" title=\"×ãÇò±¦±´\">×ãÇò±¦±´</a>\n",
       " <a href=\"http://www.meizitu.com/a/luoli.html\" target=\"_blank\" title=\"ÂÜÀò\">ÂÜÀò</a>\n",
       " <a href=\"http://www.meizitu.com/a/wangluo.html\" target=\"_blank\" title=\"90ºó\">90ºó</a>\n",
       " <a href=\"http://www.meizitu.com/a/rihan.html\" target=\"_blank\" title=\"ÈÕº«ÃÀÅ®\">ÈÕº«ÃÀÅ®</a>\n",
       " <a href=\"http://www.meizitu.com/a/oumei.html\" target=\"_blank\" title=\"Å·ÃÀÃÀÅ®\">Å·ÃÀÃÀÅ®</a>\n",
       " </span>\n",
       " </div>\n",
       " </div>\n",
       " <div id=\"pagecontent\">\n",
       " <div id=\"maincontent\">\n",
       " <!--Ñ­»·¿ªÊ¼-->\n",
       " <div class=\"postmeta clearfix\">\n",
       " <div class=\"metaRight\">\n",
       " <h2><a href=\"http://www.meizitu.com/a/5342.html\" target=\"_blank\" title=\"½¿Ð¡¿É°®µÄÃÃ×Ó´øÀ´Å®ÆÍµÄÓÕ»ó\">½¿Ð¡¿É°®µÄÃÃ×Ó´øÀ´Å®ÆÍµÄÓÕ»ó</a></h2>\n",
       " <p>Tags:\n",
       "                             ½¿Ð¡¿É°®,Å®ÆÍÖÆ·þ         \n",
       "                         </p>\n",
       " </div>\n",
       " <div class=\"metaLeft\">\n",
       " <div class=\"day\">01</div>\n",
       " <div class=\"month_Year\">04 2016</div>\n",
       " </div>\n",
       " </div>\n",
       " <div class=\"postContent\">\n",
       " <div id=\"picture\">\n",
       " <p><a href=\"http://www.meizitu.com/a/5342.html\" target=\"_blank\" title=\"½¿Ð¡¿É°®µÄÃÃ×Ó´øÀ´Å®ÆÍµÄÓÕ»ó\"><img src=\"http://pic.meizitu.com/wp-content/uploads/2016a/04/02/01.jpg\" style=\"width:100%;\"/></a></p>\n",
       " </div>\n",
       " </div>\n",
       " <div class=\"postline\"></div>\n",
       " <!--Ñ­»·½áÊø-->\n",
       " <!--Ñ­»·¿ªÊ¼-->\n",
       " <div class=\"postmeta clearfix\">\n",
       " <div class=\"metaRight\">\n",
       " <h2><a href=\"http://www.meizitu.com/a/5341.html\" target=\"_blank\" title=\"Í¯ÑÕ¾ÞÈéÈÕ±¾Å®ÐÇº£Ì²Õ¹ÏÖ·áÂúÉí²Ä\">Í¯ÑÕ¾ÞÈéÈÕ±¾Å®ÐÇº£Ì²Õ¹ÏÖ·áÂúÉí²Ä</a></h2>\n",
       " <p>Tags:\n",
       "                             Í¯ÑÕ¾ÞÈé,ÈÕ±¾Å®ÐÇ,·áÂúÉí²Ä         \n",
       "                         </p>\n",
       " </div>\n",
       " <div class=\"metaLeft\">\n",
       " <div class=\"day\">01</div>\n",
       " <div class=\"month_Year\">04 2016</div>\n",
       " </div>\n",
       " </div>\n",
       " <div class=\"postContent\">\n",
       " <div id=\"picture\">\n",
       " <p><a href=\"http://www.meizitu.com/a/5341.html\" target=\"_blank\" title=\"Í¯ÑÕ¾ÞÈéÈÕ±¾Å®ÐÇº£Ì²Õ¹ÏÖ·áÂúÉí²Ä\"><img src=\"http://pic.meizitu.com/wp-content/uploads/2016a/04/01/01.jpg\" style=\"width:100%;\"/></a></p>\n",
       " </div>\n",
       " </div>\n",
       " <div class=\"postline\"></div>\n",
       " <!--Ñ­»·½áÊø-->\n",
       " <!--Ñ­»·¿ªÊ¼-->\n",
       " <div class=\"postmeta clearfix\">\n",
       " <div class=\"metaRight\">\n",
       " <h2><a href=\"http://www.meizitu.com/a/5340.html\" target=\"_blank\" title=\"ÇåÁ¹Ò»ÏÄµÄ¾øÃÀÃÃ×ÓÎªÄãÏ×ÉÏ·ÉÎÇ\">ÇåÁ¹Ò»ÏÄµÄ¾øÃÀÃÃ×ÓÎªÄãÏ×ÉÏ·ÉÎÇ</a></h2>\n",
       " <p>Tags:\n",
       "                             ÃÃ×Ó,¾øÃÀ,ºÃÉí²Ä,Ó¾×°         \n",
       "                         </p>\n",
       " </div>\n",
       " <div class=\"metaLeft\">\n",
       " <div class=\"day\">31</div>\n",
       " <div class=\"month_Year\">03 2016</div>\n",
       " </div>\n",
       " </div>\n",
       " <div class=\"postContent\">\n",
       " <div id=\"picture\">\n",
       " <p><a href=\"http://www.meizitu.com/a/5340.html\" target=\"_blank\" title=\"ÇåÁ¹Ò»ÏÄµÄ¾øÃÀÃÃ×ÓÎªÄãÏ×ÉÏ·ÉÎÇ\"><img src=\"http://pic.meizitu.com/wp-content/uploads/2016a/03/20/01.jpg\" style=\"width:100%;\"/></a></p>\n",
       " </div>\n",
       " </div>\n",
       " <div class=\"postline\"></div>\n",
       " <!--Ñ­»·½áÊø-->\n",
       " <!--Ñ­»·¿ªÊ¼-->\n",
       " <div class=\"postmeta clearfix\">\n",
       " <div class=\"metaRight\">\n",
       " <h2><a href=\"http://www.meizitu.com/a/5339.html\" target=\"_blank\" title=\"ÆøÖÊÉí²Ä¾ã¼ÑµÄÅ®Éñ£¬Ð¦ÆðÀ´·Ç³£ÃÔÈË\">ÆøÖÊÉí²Ä¾ã¼ÑµÄÅ®Éñ£¬Ð¦ÆðÀ´·Ç³£ÃÔÈË</a></h2>\n",
       " <p>Tags:\n",
       "                             ÌðÃÀÅ®Éú,ÄÚÒÂÅ®Éñ,ÃÔÈËµÄ¹ÃÄï         \n",
       "                         </p>\n",
       " </div>\n",
       " <div class=\"metaLeft\">\n",
       " <div class=\"day\">31</div>\n",
       " <div class=\"month_Year\">03 2016</div>\n",
       " </div>\n",
       " </div>\n",
       " <div class=\"postContent\">\n",
       " <div id=\"picture\">\n",
       " <p><a href=\"http://www.meizitu.com/a/5339.html\" target=\"_blank\" title=\"ÆøÖÊÉí²Ä¾ã¼ÑµÄÅ®Éñ£¬Ð¦ÆðÀ´·Ç³£ÃÔÈË\"><img src=\"http://pic.meizitu.com/wp-content/uploads/2016a/03/19/01.jpg\" style=\"width:100%;\"/></a></p>\n",
       " </div>\n",
       " </div>\n",
       " <div class=\"postline\"></div>\n",
       " <!--Ñ­»·½áÊø-->\n",
       " <!--Ñ­»·¿ªÊ¼-->\n",
       " <div class=\"postmeta clearfix\">\n",
       " <div class=\"metaRight\">\n",
       " <h2><a href=\"http://www.meizitu.com/a/5338.html\" target=\"_blank\" title=\"Çà´ºµÄÎ¶µÀ£¬ÏÄÌìÀïÐ£·þºÍ´¿ÃÃ×Ó¸üÅäàÞ\">Çà´ºµÄÎ¶µÀ£¬ÏÄÌìÀïÐ£·þºÍ´¿ÃÃ×Ó¸üÅäàÞ</a></h2>\n",
       " <p>Tags:\n",
       "                             Çà´ºÆøÏ¢,¿É°®µÄÃÃ×Ó,Ð£·þ¿Ø         \n",
       "                         </p>\n",
       " </div>\n",
       " <div class=\"metaLeft\">\n",
       " <div class=\"day\">30</div>\n",
       " <div class=\"month_Year\">03 2016</div>\n",
       " </div>\n",
       " </div>\n",
       " <div class=\"postContent\">\n",
       " <div id=\"picture\">\n",
       " <p><a href=\"http://www.meizitu.com/a/5338.html\" target=\"_blank\" title=\"Çà´ºµÄÎ¶µÀ£¬ÏÄÌìÀïÐ£·þºÍ´¿ÃÃ×Ó¸üÅäàÞ\"><img src=\"http://pic.meizitu.com/wp-content/uploads/2016a/03/18/01.jpg\" style=\"width:100%;\"/></a></p>\n",
       " </div>\n",
       " </div>\n",
       " <div class=\"postline\"></div>\n",
       " <!--Ñ­»·½áÊø-->\n",
       " <!--Ñ­»·¿ªÊ¼-->\n",
       " <div class=\"postmeta clearfix\">\n",
       " <div class=\"metaRight\">\n",
       " <h2><a href=\"http://www.meizitu.com/a/5337.html\" target=\"_blank\" title=\"Å£×Ð±³´ø¿ã£¬·áÂú°×ðªÄÛÄ£µÄÒ»¿ÅÉÙÅ®ÐÄ\">Å£×Ð±³´ø¿ã£¬·áÂú°×ðªÄÛÄ£µÄÒ»¿ÅÉÙÅ®ÐÄ</a></h2>\n",
       " <p>Tags:\n",
       "                             ·áÂú,°×ðª,ÄÛÄ£         \n",
       "                         </p>\n",
       " </div>\n",
       " <div class=\"metaLeft\">\n",
       " <div class=\"day\">30</div>\n",
       " <div class=\"month_Year\">03 2016</div>\n",
       " </div>\n",
       " </div>\n",
       " <div class=\"postContent\">\n",
       " <div id=\"picture\">\n",
       " <p><a href=\"http://www.meizitu.com/a/5337.html\" target=\"_blank\" title=\"Å£×Ð±³´ø¿ã£¬·áÂú°×ðªÄÛÄ£µÄÒ»¿ÅÉÙÅ®ÐÄ\"><img src=\"http://pic.meizitu.com/wp-content/uploads/2016a/03/17/01.jpg\" style=\"width:100%;\"/></a></p>\n",
       " </div>\n",
       " </div>\n",
       " <div class=\"postline\"></div>\n",
       " <!--Ñ­»·½áÊø-->\n",
       " <!--Ñ­»·¿ªÊ¼-->\n",
       " <div class=\"postmeta clearfix\">\n",
       " <div class=\"metaRight\">\n",
       " <h2><a href=\"http://www.meizitu.com/a/5336.html\" target=\"_blank\" title=\"Ò»²¨ÈÕ±¾ÃÃ×ÓÉîÒ¹À´Ï®£¬µº¹úÃÃ×ÓÑÕÖµ¸ß\">Ò»²¨ÈÕ±¾ÃÃ×ÓÉîÒ¹À´Ï®£¬µº¹úÃÃ×ÓÑÕÖµ¸ß</a></h2>\n",
       " <p>Tags:\n",
       "                             ÑÕÖµÃÀÅ®,ÈÕ±¾ÃÃ×Ó,ÈÕº«ÃÃ×Ó         \n",
       "                         </p>\n",
       " </div>\n",
       " <div class=\"metaLeft\">\n",
       " <div class=\"day\">26</div>\n",
       " <div class=\"month_Year\">03 2016</div>\n",
       " </div>\n",
       " </div>\n",
       " <div class=\"postContent\">\n",
       " <div id=\"picture\">\n",
       " <p><a href=\"http://www.meizitu.com/a/5336.html\" target=\"_blank\" title=\"Ò»²¨ÈÕ±¾ÃÃ×ÓÉîÒ¹À´Ï®£¬µº¹úÃÃ×ÓÑÕÖµ¸ß\"><img src=\"http://pic.meizitu.com/wp-content/uploads/2016a/03/16/01.jpg\" style=\"width:100%;\"/></a></p>\n",
       " </div>\n",
       " </div>\n",
       " <div class=\"postline\"></div>\n",
       " <!--Ñ­»·½áÊø-->\n",
       " <!--Ñ­»·¿ªÊ¼-->\n",
       " <div class=\"postmeta clearfix\">\n",
       " <div class=\"metaRight\">\n",
       " <h2><a href=\"http://www.meizitu.com/a/5335.html\" target=\"_blank\" title=\"ÉîÒ¹³©ÁÄ£¬ÄÄÕÅÍ¼×îÄÜÈÇÄãåÚË¼£¿\">ÉîÒ¹³©ÁÄ£¬ÄÄÕÅÍ¼×îÄÜÈÇÄãåÚË¼£¿</a></h2>\n",
       " <p>Tags:\n",
       "                             ÉîÒ¹³©ÁÄ,ÈÇ»ð,ÃÀÈé,ÃÀÅ®         \n",
       "                         </p>\n",
       " </div>\n",
       " <div class=\"metaLeft\">\n",
       " <div class=\"day\">22</div>\n",
       " <div class=\"month_Year\">03 2016</div>\n",
       " </div>\n",
       " </div>\n",
       " <div class=\"postContent\">\n",
       " <div id=\"picture\">\n",
       " <p><a href=\"http://www.meizitu.com/a/5335.html\" target=\"_blank\" title=\"ÉîÒ¹³©ÁÄ£¬ÄÄÕÅÍ¼×îÄÜÈÇÄãåÚË¼£¿\"><img src=\"http://pic.meizitu.com/wp-content/uploads/2016a/03/15/01.jpg\" style=\"width:100%;\"/></a></p>\n",
       " </div>\n",
       " </div>\n",
       " <div class=\"postline\"></div>\n",
       " <!--Ñ­»·½áÊø-->\n",
       " <!--Ñ­»·¿ªÊ¼-->\n",
       " <div class=\"postmeta clearfix\">\n",
       " <div class=\"metaRight\">\n",
       " <h2><a href=\"http://www.meizitu.com/a/5334.html\" target=\"_blank\" title=\"Çå´¿¿ÉÈËµÄ»¤Ê¿ÃÃÖ½£¬ÄÜÈÚ»¯²¡ÈËµÄ´àÈõ\">Çå´¿¿ÉÈËµÄ»¤Ê¿ÃÃÖ½£¬ÄÜÈÚ»¯²¡ÈËµÄ´àÈõ</a></h2>\n",
       " <p>Tags:\n",
       "                             Çå´¿ÃÃ×Ó,»¤Ê¿ÖÆ·þ         \n",
       "                         </p>\n",
       " </div>\n",
       " <div class=\"metaLeft\">\n",
       " <div class=\"day\">20</div>\n",
       " <div class=\"month_Year\">03 2016</div>\n",
       " </div>\n",
       " </div>\n",
       " <div class=\"postContent\">\n",
       " <div id=\"picture\">\n",
       " <p><a href=\"http://www.meizitu.com/a/5334.html\" target=\"_blank\" title=\"Çå´¿¿ÉÈËµÄ»¤Ê¿ÃÃÖ½£¬ÄÜÈÚ»¯²¡ÈËµÄ´àÈõ\"><img src=\"http://pic.meizitu.com/wp-content/uploads/2016a/03/14/01.jpg\" style=\"width:100%;\"/></a></p>\n",
       " </div>\n",
       " </div>\n",
       " <div class=\"postline\"></div>\n",
       " <!--Ñ­»·½áÊø-->\n",
       " <!--Ñ­»·¿ªÊ¼-->\n",
       " <div class=\"postmeta clearfix\">\n",
       " <div class=\"metaRight\">\n",
       " <h2><a href=\"http://www.meizitu.com/a/5333.html\" target=\"_blank\" title=\"·ÛÉ«ÏµµÄÍÃÅ®ÀÉ£¬±ðÖÂµÄÃÀÀö\">·ÛÉ«ÏµµÄÍÃÅ®ÀÉ£¬±ðÖÂµÄÃÀÀö</a></h2>\n",
       " <p>Tags:\n",
       "                             ·ÛÉ«Ïµ,ÍÃÅ®ÀÉ,ÖÆ·þ         \n",
       "                         </p>\n",
       " </div>\n",
       " <div class=\"metaLeft\">\n",
       " <div class=\"day\">20</div>\n",
       " <div class=\"month_Year\">03 2016</div>\n",
       " </div>\n",
       " </div>\n",
       " <div class=\"postContent\">\n",
       " <div id=\"picture\">\n",
       " <p><a href=\"http://www.meizitu.com/a/5333.html\" target=\"_blank\" title=\"·ÛÉ«ÏµµÄÍÃÅ®ÀÉ£¬±ðÖÂµÄÃÀÀö\"><img src=\"http://pic.meizitu.com/wp-content/uploads/2016a/03/13/01.jpg\" style=\"width:100%;\"/></a></p>\n",
       " </div>\n",
       " </div>\n",
       " <div class=\"postline\"></div>\n",
       " <!--Ñ­»·½áÊø-->\n",
       " <div class=\"navigation\">\n",
       " <div id=\"wp_page_numbers\">\n",
       " <ul>\n",
       " <li class=\"thisclass\">1</li>\n",
       " <li><a href=\"/a/list_1_1.html\">2</a></li>\n",
       " <li><a href=\"/a/list_1_2.html\">3</a></li>\n",
       " <li><a href=\"/a/list_1_3.html\">4</a></li>\n",
       " <li><a href=\"/a/list_1_4.html\">5</a></li>\n",
       " <li><a href=\"/a/list_1_5.html\">6</a></li>\n",
       " <li><a href=\"/a/list_1_6.html\">7</a></li>\n",
       " <li><a href=\"/a/list_1_7.html\">8</a></li>\n",
       " <li>...</li>\n",
       " <li><a href=\"/a/list_1_75.html\">75</a></li>\n",
       " <li><a href=\"/a/list_1_76.html\">76</a></li>\n",
       " <li><a href=\"/a/list_1_77.html\">77</a></li>\n",
       " <li><a href=\"/a/list_1_1.html\">ÏÂÒ»Ò³</a></li>\n",
       " <li><a href=\"/a/list_1_77.html\">Ä©Ò³</a></li>\n",
       " </ul>\n",
       " <div style=\"float: none; clear: both;\"></div>\n",
       " </div>\n",
       " </div>\n",
       " </div>\n",
       " <div id=\"sidebar\">\n",
       " <!--<div class=\"weixindiv\" style=\"text-align:center;\">\n",
       "   <img src=\"http://www.meizitu.com/images/weixinrwm.gif\"/></div>\n",
       " --><div class=\"\"><script charset=\"gb2312\" src=\"http://e.e70123.com/cpc/index.php?50056_2_13_0|1|2_d70000__\"></script> </div>\n",
       " <div class=\"cssh6\"></div>\n",
       " <div class=\"topmodel\">\n",
       " <h2>¼«Æ··ÖÀà</h2>\n",
       " <ul>\n",
       " <li><a href=\"http://www.meizitu.com/tag/suxiong_17_1.html\" style=\"color:#FD6E9F;\" target=\"_blank\" title=\"ËÖÐØ\">ËÖÐØ</a></li>\n",
       " <li><a href=\"http://www.meizitu.com/tag/shaonv_404_1.html\" target=\"_blank\" title=\"ÉÙÅ®\">ÉÙÅ®</a></li>\n",
       " <li><a href=\"http://www.meizitu.com/tag/sifang_18_1.html\" target=\"_blank\" title=\"Ë½·¿\">Ë½·¿</a></li>\n",
       " <li><a href=\"http://www.meizitu.com/tag/meitui_13_1.html\" style=\"color:#FD6E9F;\" target=\"_blank\" title=\"ÃÀÍÈ\">ÃÀÍÈ</a></li>\n",
       " <li><a href=\"http://www.meizitu.com/tag/juru_31_1.html\" style=\"color:#FD6E9F;\" target=\"_blank\" title=\"¾ÞÈé\">¾ÞÈé</a></li>\n",
       " </ul>\n",
       " <div style=\"clear:both;\"></div>\n",
       " <ul>\n",
       " <li><a href=\"http://www.meizitu.com/tag/qingchun_32_1.html\" target=\"_blank\" title=\"Çå´¿\">Çå´¿</a></li>\n",
       " <li><a href=\"http://www.meizitu.com/tag/keai_64_1.html\" target=\"_blank\" title=\"¿É°®\">¿É°®</a></li>\n",
       " <li><a href=\"http://www.meizitu.com/tag/meitun_42_1.html\" target=\"_blank\" title=\"ÃÀÍÎ\">ÃÀÍÎ</a></li>\n",
       " <li><a href=\"http://www.meizitu.com/tag/quanluo_4_1.html\" rel=\"nofollow\" target=\"_blank\" title=\"È«Âã\">È«Âã</a></li>\n",
       " <li><a href=\"http://www.meizitu.com/tag/nvshen_460_1.html\" target=\"_blank\" title=\"Å®Éñ\">Å®Éñ</a></li>\n",
       " </ul>\n",
       " <div style=\"clear:both;\"></div>\n",
       " <ul>\n",
       " <li><a href=\"http://www.meizitu.com/tag/chengshu_487_1.html\" target=\"_blank\" title=\"³ÉÊì\">³ÉÊì</a></li>\n",
       " <li><a href=\"http://www.meizitu.com/tag/qizhi_53_1.html\" target=\"_blank\" title=\"ÆøÖÊ\">ÆøÖÊ</a></li>\n",
       " <li><a href=\"http://www.meizitu.com/tag/mote_6_1.html\" target=\"_blank\" title=\"Ä£ÌØ\">Ä£ÌØ</a></li>\n",
       " <li><a href=\"http://www.meizitu.com/tag/banluo_5_1.html\" rel=\"nofollow\" target=\"_blank\" title=\"°ëÂã\">°ëÂã</a></li>\n",
       " </ul>\n",
       " <div class=\"cssh6\" style=\"clear:both;\"></div>\n",
       " <h2>ÈÈÃÅÄ£ÌØ</h2>\n",
       " <ul>\n",
       " <li><a href=\"http://www.meizitu.com/tag/zhangwanyou_46_1.html\" style=\"color:#FD6E9F;\" target=\"_blank\" title=\"ÕÅÍñÓÆ\">ÕÅÍñÓÆ</a></li>\n",
       " <li><a href=\"http://www.meizitu.com/tag/liyingzhi_281_1.html\" target=\"_blank\" title=\"ÀîÓ±Ö¥\">ÀîÓ±Ö¥</a></li>\n",
       " <li><a href=\"http://www.meizitu.com/tag/jinmeixin_87_1.html\" target=\"_blank\" title=\"½ðÃÀÐÁ\">½ðÃÀÐÁ</a></li>\n",
       " <li><a href=\"http://www.meizitu.com/tag/yezixuan_19_1.html\" style=\"color:#FD6E9F;\" target=\"_blank\" title=\"Ò¶è÷Ýæ\">Ò¶è÷Ýæ</a></li>\n",
       " <li><a href=\"http://www.meizitu.com/tag/yuzhiqing_29_1.html\" style=\"color:#FD6E9F;\" target=\"_blank\" title=\"ÓÚÜÆÇç\">ÓÚÜÆÇç</a></li>\n",
       " </ul>\n",
       " <div style=\"clear:both;\"></div>\n",
       " <ul>\n",
       " <li><a href=\"http://www.meizitu.com/tag/zhangyou_161_1.html\" target=\"_blank\" title=\"ÕÅÓÅ\">ÕÅÓÅ</a></li>\n",
       " <li><a href=\"http://www.meizitu.com/tag/limengtian_91_1.html\" target=\"_blank\" title=\"ÀèÃÎÌñ\">ÀèÃÎÌñ</a></li>\n",
       " <li><a href=\"http://www.meizitu.com/tag/xiaxiaowei_107_1.html\" target=\"_blank\" title=\"ÏÄÐ¡Þ±\">ÏÄÐ¡Þ±</a></li>\n",
       " <li><a href=\"http://www.meizitu.com/tag/zhouweitong_62_1.html\" style=\"color:#FD6E9F;\" target=\"_blank\" title=\"ÖÜÎ¤Í®\">ÖÜÎ¤Í®</a></li>\n",
       " <li><a href=\"http://www.meizitu.com/tag/lishasha_3_1.html\" target=\"_blank\" title=\"ÀîÉ³É³\">ÀîÉ³É³</a></li>\n",
       " </ul>\n",
       " <div style=\"clear:both;\"></div>\n",
       " <ul>\n",
       " <li><a href=\"http://www.meizitu.com/tag/liqixi_434_1.html\" target=\"_blank\" title=\"ÀîÆßÏ²\">ÀîÆßÏ²</a></li>\n",
       " <li><a href=\"http://www.meizitu.com/tag/gong_fei_44_1.html\" target=\"_blank\" title=\"¹¨«h·Æ\">¹¨«h·Æ</a></li>\n",
       " <li><a href=\"http://www.meizitu.com/tag/wangruier_451_1.html\" target=\"_blank\" title=\"ÍõÈð¶ù\">ÍõÈð¶ù</a></li>\n",
       " <li><a href=\"http://www.meizitu.com/tag/anruitian_108_1.html\" target=\"_blank\" title=\"°²ÈðÌð\">°²ÈðÌð</a></li>\n",
       " <li><a href=\"http://www.meizitu.com/tag/waiwai_38_1.html\" target=\"_blank\" title=\"ÍáÍá\">ÍáÍá</a></li>\n",
       " </ul>\n",
       " </div>\n",
       " <div class=\"cssh6\"></div>\n",
       " <div class=\"hotpic clearfix\">\n",
       " <h3>»ðÈÈµÄ¸÷ÖÖÃÃ×Ó</h3>\n",
       " <ul>\n",
       " <li><a href=\"http://www.meizitu.com/a/5307.html\" target=\"_blank\"><img alt=\"±òÔ­ÐÓÁ§³Ô±ùä¿ÁÜµÄÓÕÈËÉñÌ¬\" src=\"http://pic.meizitu.com/wp-content/uploads/2016a/02/16/limg.jpg\"/></a></li>\n",
       " <li><a href=\"http://www.meizitu.com/a/5283.html\" target=\"_blank\"><img alt=\"ÇÎÆ¤¾í·¢ÃÀÃ¼Å×ÃÄÑÛÓÕ»óÖÚÈË\" src=\"http://pic.meizitu.com/wp-content/uploads/2016a/01/20/limg.jpg\"/></a></li>\n",
       " <li><a href=\"http://www.meizitu.com/a/5325.html\" target=\"_blank\"><img alt=\"ÄÇÐ©Çå´¿µÄÑøÑÛÃÀÅ®Í¼Æ¬-23\" src=\"http://pic.meizitu.com/wp-content/uploads/2016a/03/05/limg.jpg\"/></a></li>\n",
       " <li><a href=\"http://www.meizitu.com/a/5339.html\" target=\"_blank\"><img alt=\"ÆøÖÊÉí²Ä¾ã¼ÑµÄÅ®Éñ£¬Ð¦ÆðÀ´·Ç³£\" src=\"http://pic.meizitu.com/wp-content/uploads/2016a/03/19/limg.jpg\"/></a></li>\n",
       " <li><a href=\"http://www.meizitu.com/a/5332.html\" target=\"_blank\"><img alt=\"ÃÀ£¨bao£©ÐØ£¨ru£©Å®Íõ´øÀ´ÖÆ·þ\" src=\"http://pic.meizitu.com/wp-content/uploads/2016a/03/12/limg.jpg\"/></a></li>\n",
       " <li><a href=\"http://www.meizitu.com/a/5301.html\" target=\"_blank\"><img alt=\"³¬ÃÀ£¬´¿´¿µÄÄãÓëÀ¶À¶µÄÌìÏàµÃÒæ\" src=\"http://pic.meizitu.com/wp-content/uploads/2016a/02/10/limg.jpg\"/></a></li>\n",
       " <li><a href=\"http://www.meizitu.com/a/5334.html\" target=\"_blank\"><img alt=\"Çå´¿¿ÉÈËµÄ»¤Ê¿ÃÃÖ½£¬ÄÜÈÚ»¯²¡ÈË\" src=\"http://pic.meizitu.com/wp-content/uploads/2016a/03/14/limg.jpg\"/></a></li>\n",
       " <li><a href=\"http://www.meizitu.com/a/5317.html\" target=\"_blank\"><img alt=\"Ã¿ÌìÕö¿ªÑÛ¿´µ½ÃÀºÃµÄÄã£¬±ãÊÇÐÒ\" src=\"http://pic.meizitu.com/wp-content/uploads/2016a/02/26/limg.jpg\"/></a></li>\n",
       " </ul>\n",
       " <ul>\n",
       " <li><a href=\"http://www.sifangsex.com/tuku/?ad=meizitu1\" rel=\"nofollow\" target=\"_blank\"><img alt=\"\" src=\"http://www.meizitu.com/wp-content/uploads/img/hezuo01.jpg\"/></a></li>\n",
       " <li><a href=\"http://www.sifangsex.com/tuku/?ad=meizitu2\" rel=\"nofollow\" target=\"_blank\"><img alt=\"\" src=\"http://www.meizitu.com/wp-content/uploads/img/hezuo02.jpg\"/></a></li>\n",
       " </ul>\n",
       " </div>\n",
       " <div class=\"cssh6\"></div>\n",
       " <div class=\"lastest clearfix\">\n",
       " <h3>×îÐÂ¸üÐÂ</h3>\n",
       " <ul>\n",
       " <li><a href=\"http://www.meizitu.com/a/5327.html\">»°ÌâÖ®¡ª¡ªÑ°ÕÒNBA×îÃÀÀ­À­¶ÓÔ±</a></li>\n",
       " <li><a href=\"http://www.meizitu.com/a/5321.html\">Ä£ÌØ³ÂÑÅÂþ´ó³ß¶ÈÐ´Õæ£¬ÉÏÑÝËáÄÌµÄ</a></li>\n",
       " <li><a href=\"http://www.meizitu.com/a/5337.html\">Å£×Ð±³´ø¿ã£¬·áÂú°×ðªÄÛÄ£µÄÒ»¿ÅÉÙ</a></li>\n",
       " <li><a href=\"http://www.meizitu.com/a/5338.html\">Çà´ºµÄÎ¶µÀ£¬ÏÄÌìÀïÐ£·þºÍ´¿ÃÃ×Ó¸ü</a></li>\n",
       " <li><a href=\"http://www.meizitu.com/a/5331.html\">³¤ÍÈÄÛÄ£´°Ì¨Ç°ÁÃ¶¯Ðã·¢£¬ÍðÈçÃÀÈË</a></li>\n",
       " <li><a href=\"http://www.meizitu.com/a/5342.html\">½¿Ð¡¿É°®µÄÃÃ×Ó´øÀ´Å®ÆÍµÄÓÕ»ó</a></li>\n",
       " <li><a href=\"http://www.sifangsex.com/a/qinggan/2013/807.html?ad=meizitu3\" rel=\"nofollow\" target=\"_blank\">Íâ±í¿´³öÅ®ÈËµÄ×ö°®Ï°¹ß</a></li>\n",
       " <li><a href=\"http://www.sifangsex.com/a/qinggan/2013/758.html?ad=meizitu3\" rel=\"nofollow\" target=\"_blank\">ÍÑµôËýÐÔ¸ÐÒÂ·þÎÒÃ÷°×ÁËÒ»ÇÐ</a></li>\n",
       " <li><a href=\"http://www.sifangsex.com/a/jiankang/2013/135.html?ad=meizitu3\" rel=\"nofollow\" target=\"_blank\">Å®ÐÔµÄ×ÔÎ¿´óÈ«Óë×¢Òâ</a></li>\n",
       " <li><a href=\"http://www.sifangsex.com/a/wenhua/2013/670.html?ad=meizitu3\" rel=\"nofollow\" target=\"_blank\">ÄÐÈË¾ø¶Ô°Ñ³Ö²»×¡µÄ°µÊ¾</a></li>\n",
       " </ul>\n",
       " </div>\n",
       " <div class=\"cssh6\"></div>\n",
       " <div class=\"flinkTag\">\n",
       " <ul>\n",
       " <li class=\"flink_1\">¾«²ÊÄÚÈÝ</li>\n",
       " <li class=\"flink_2\">ÓÑÇéÁ´½Ó</li>\n",
       " </ul>\n",
       " </div>\n",
       " <div class=\"flink\" id=\"flink_1\" style=\"display:block;\">\n",
       " <a href=\"http://www.sifangsex.com/\" target=\"_blank\">Á½ÐÔË½·¿Íø</a>\n",
       " <a href=\"http://www.mmxzg.com/\" target=\"_blank\">ÐÔ¸ÐÃÀÅ®Í¼Æ¬</a>\n",
       " <a href=\"http://www.mmlin.com\" target=\"_blank\">ÁÖÃÃÃÃÃÀÅ®</a>\n",
       " </div>\n",
       " <div class=\"flink\" id=\"flink_2\">\n",
       " <a href=\"http://www.spiritsoft.cn/\" target=\"_blank\">Á÷Á¿¾«Áé</a>\n",
       " <a href=\"http://www.xiaozhishi.net\" target=\"_blank\">Ð¡ÖªÊ¶</a>\n",
       " <a href=\"http://www.5542.cc\" target=\"_blank\">ÃÀÅ®Ð´Õæ</a>\n",
       " <a href=\"http://www.mtu5.com\" target=\"_blank\">ÃÀÍ¼ÎÝ</a>\n",
       " <a href=\"http://www.haoxiao8.com\" target=\"_blank\">ºÃÐ¦°É</a>\n",
       " <a href=\"http://www.gifxiu.com\" target=\"_blank\">Ð°¶ñ¶¯Ì¬Í¼</a>\n",
       " <a href=\"http://www.27270.com\" target=\"_blank\">Í¼Æ¬´óÈ«</a>\n",
       " <a href=\"http://www.17786.com\" target=\"_blank\">ÃÀÅ®Í¼Æ¬</a>\n",
       " <a href=\"http://www.youqu.net\" target=\"_blank\">ÓÐÈ¤°É</a>\n",
       " <a href=\"http://www.xiaobaixitong.com\" target=\"_blank\">ÏµÍ³ÖØ×°</a>\n",
       " <a href=\"http://www.69345.com\" target=\"_blank\">ÃÀÅ®Í¼Æ¬</a>\n",
       " </div>\n",
       " <script type=\"text/javascript\">\n",
       " \t\t$(document).ready(function(){\n",
       " \t\t\t$(\"div.flinkTag li:first\").addClass(\"this\");\n",
       " \t\t\t$(\"div.flinkTag li\").click(function () {\n",
       " \t\t\tvar content_show = $(this).attr(\"class\");\n",
       " \t\t\t$(\"div.flinkTag li\").removeClass(\"this\");\n",
       " \t\t\t$(this).addClass(\"this\");\n",
       " \t\t\t$(\"div.flink\").hide();\n",
       " \t\t\t$(\"#\"+content_show).show();\n",
       " \t\t\treturn false;\n",
       " \t\t\t});\n",
       " \t\t});\n",
       " \t</script>\n",
       " <div class=\"cssh6\"></div>\n",
       " </div>\n",
       " </div>\n",
       " </div>\n",
       " <div id=\"footer\">\n",
       " <p>¹ã¸æ¼°ÓÑÁ´ºÏ×÷ÇëÁªÏµ£ºmeizitu@126.com</p>\n",
       " <p>±¾Õ¾Í¼Æ¬À´Ô´ÓÚÉãÓ°Ê¦Í¶¸å¼°ÍøÂç£¬Èç¹ûÇÖ·¸ÁËÄúµÄÈ¨Òæ£¬ÇëÁªÏµÎÒÃÇÉ¾³ý¡£</p>\n",
       " <p>2010 - 2016 ÃÃ×ÓÍ¼www.meizitu.com °æÈ¨ËùÓÐ£¬±¾Õ¾Éè¼Æ¼°ÆÀÂÛÑÏ½ûÇÖÈ¨  ¼½ICP±¸11027911ºÅ ¡£</p>\n",
       " </div>\n",
       " <div id=\"contentbottom\"></div>\n",
       " </div>\n",
       " <script>\n",
       " (function() {\n",
       " var $backToTopTxt = \"·µ»Ø¶¥²¿\", $backToTopEle = $('<div class=\"backToTop\"></div>').appendTo($(\"body\"))\n",
       " \n",
       "         .text($backToTopTxt).attr(\"title\", $backToTopTxt).click(function() {\n",
       " \n",
       "             $(\"html, body\").animate({ scrollTop: 0 }, 120);\n",
       " \n",
       "     }), $backToTopFun = function() {\n",
       " \n",
       " var st = $(document).scrollTop(), winh = $(window).height();\n",
       " \n",
       "         (st > 0)? $backToTopEle.show(): $backToTopEle.hide();\n",
       " \n",
       " //IE6ÏÂµÄ¶¨Î»\n",
       " \n",
       " if (!window.XMLHttpRequest) {\n",
       " \n",
       "             $backToTopEle.css(\"top\", st + winh - 166);\n",
       " \n",
       "         }\n",
       " \n",
       "     };\n",
       " \n",
       "     $(window).bind(\"scroll\", $backToTopFun);\n",
       " \n",
       "     $(function() { $backToTopFun(); });\n",
       " \n",
       " })();\n",
       " \n",
       "  $(function(){    \n",
       "         window.onresize = function(){\n",
       "             footview();\n",
       "         }\n",
       "         function footview(){\n",
       "             if(view().h>662){            \n",
       "                 $('#contentbottom').addClass('foot_ch');\n",
       "             }\n",
       "             if(view().h<662){            \n",
       "                 $('#contentbottom').removeClass('foot_ch');\n",
       "             }\n",
       "         }\n",
       "         footview();\n",
       "     });\n",
       "     \n",
       "     function view(){\n",
       "         return {\n",
       "             w: document.documentElement.clientWidth,\n",
       "             h: document.documentElement.clientHeight    \n",
       "         }\n",
       "     }\n",
       " \n",
       " </script>\n",
       " <script charset=\"gb2312\" src=\"http://f.f70123.com/cpf/index.php?50056_1|1|1__0_0\"></script>\n",
       " </body>\n",
       " </html>]"
      ]
     },
     "execution_count": 6,
     "metadata": {},
     "output_type": "execute_result"
    }
   ],
   "source": [
    "soup.contents"
   ]
  },
  {
   "cell_type": "code",
   "execution_count": 7,
   "metadata": {
    "collapsed": false
   },
   "outputs": [
    {
     "data": {
      "text/plain": [
       "[<a href=\"http://www.meizitu.com/a/5317.html\" target=\"_blank\"><img alt=\"Ã¿ÌìÕö¿ªÑÛ¿´µ½ÃÀºÃµÄÄã£¬±ãÊÇÐÒ\" height=\"64\" src=\"http://pic.meizitu.com/wp-content/uploads/2016a/02/26/limg.jpg\" width=\"64\"/></a>,\n",
       " <a href=\"http://www.meizitu.com/a/5318.html\" target=\"_blank\"><img alt=\"ÓÐ×ÔÐÅÃÔÈËµÄÐ¦ÈÝ£¬Ã¿Ìì¶¼ÊÇ²ÓÀÃ\" height=\"64\" src=\"http://pic.meizitu.com/wp-content/uploads/2016a/02/27/limg.jpg\" width=\"64\"/></a>,\n",
       " <a href=\"http://www.meizitu.com/a/5339.html\" target=\"_blank\"><img alt=\"ÆøÖÊÉí²Ä¾ã¼ÑµÄÅ®Éñ£¬Ð¦ÆðÀ´·Ç³£\" height=\"64\" src=\"http://pic.meizitu.com/wp-content/uploads/2016a/03/19/limg.jpg\" width=\"64\"/></a>,\n",
       " <a href=\"http://www.meizitu.com/a/5320.html\" target=\"_blank\"><img alt=\"ÉîÒ¹³©ÁÄ£¬ÄÄÕÅÍ¼×îÎüÒýÄãÑÛÇò£¿\" height=\"64\" src=\"http://pic.meizitu.com/wp-content/uploads/2016a/02/29/limg.jpg\" width=\"64\"/></a>,\n",
       " <a href=\"http://www.meizitu.com/a/5340.html\" target=\"_blank\"><img alt=\"ÇåÁ¹Ò»ÏÄµÄ¾øÃÀÃÃ×ÓÎªÄãÏ×ÉÏ·ÉÎÇ\" height=\"64\" src=\"http://pic.meizitu.com/wp-content/uploads/2016a/03/20/limg.jpg\" width=\"64\"/></a>,\n",
       " <a href=\"http://www.meizitu.com/a/5319.html\" target=\"_blank\"><img alt=\"¿É°®ÃÈÃÈßÕµÄÐ¡ÂùÑüÅÝÔè¼Ç\" height=\"64\" src=\"http://pic.meizitu.com/wp-content/uploads/2016a/02/28/limg.jpg\" width=\"64\"/></a>,\n",
       " <a href=\"http://www.meizitu.com/a/5327.html\" target=\"_blank\"><img alt=\"»°ÌâÖ®¡ª¡ªÑ°ÕÒNBA×îÃÀÀ­À­¶ÓÔ±\" height=\"64\" src=\"http://pic.meizitu.com/wp-content/uploads/2016a/03/07/limg.jpg\" width=\"64\"/></a>,\n",
       " <a href=\"http://www.meizitu.com/a/5332.html\" target=\"_blank\"><img alt=\"ÃÀ£¨bao£©ÐØ£¨ru£©Å®Íõ´øÀ´ÖÆ·þ\" height=\"64\" src=\"http://pic.meizitu.com/wp-content/uploads/2016a/03/12/limg.jpg\" width=\"64\"/></a>,\n",
       " <a href=\"http://www.meizitu.com/a/5324.html\" target=\"_blank\"><img alt=\"·áÂúÈâ¸ÐµÄÈÕ±¾ÃÀÐØÅ®ÉñóãÆé°®ÏÄ\" height=\"64\" src=\"http://pic.meizitu.com/wp-content/uploads/2016a/03/04/limg.jpg\" width=\"64\"/></a>,\n",
       " <a href=\"http://www.meizitu.com/a/5331.html\" target=\"_blank\"><img alt=\"³¤ÍÈÄÛÄ£´°Ì¨Ç°ÁÃ¶¯Ðã·¢£¬ÍðÈçÃÀ\" height=\"64\" src=\"http://pic.meizitu.com/wp-content/uploads/2016a/03/11/limg.jpg\" width=\"64\"/></a>,\n",
       " <a href=\"http://www.meizitu.com/a/5325.html\" target=\"_blank\"><img alt=\"ÄÇÐ©Çå´¿µÄÑøÑÛÃÀÅ®Í¼Æ¬-23\" height=\"64\" src=\"http://pic.meizitu.com/wp-content/uploads/2016a/03/05/limg.jpg\" width=\"64\"/></a>,\n",
       " <a href=\"http://www.meizitu.com/a/xinggan.html\" target=\"_blank\" title=\"ÐÔ¸Ð\">ÐÔ¸Ð</a>,\n",
       " <a href=\"http://www.meizitu.com/a/xinggan.html\" target=\"_blank\" title=\"Ô¡ÊÒ\">Ô¡ÊÒ</a>,\n",
       " <a href=\"http://www.meizitu.com/a/sifang.html\" target=\"_blank\" title=\"Ë½·¿\">Ë½·¿</a>,\n",
       " <a href=\"http://www.meizitu.com/a/sifang.html\" target=\"_blank\" title=\"ÃÀÍÈ\">ÃÀÍÈ</a>,\n",
       " <a href=\"http://www.meizitu.com/a/qingchun.html\" target=\"_blank\" title=\"Çå´¿\">Çå´¿</a>,\n",
       " <a href=\"http://www.meizitu.com/a/qingchun.html\" target=\"_blank\" title=\"ÌðÃÀ\">ÌðÃÀ</a>,\n",
       " <a href=\"http://www.meizitu.com/a/qingchun.html\" target=\"_blank\" title=\"ÖÎÓúÏµ\">ÖÎÓúÏµ</a>,\n",
       " <a href=\"http://www.meizitu.com/a/meizi.html\" target=\"_blank\" title=\"ÃÈÃÃ×Ó\">ÃÈÃÃ×Ó</a>,\n",
       " <a href=\"http://www.meizitu.com/a/xiaoqingxin.htm\" target=\"_blank\" title=\"Ð¡ÇåÐÂ\">Ð¡ÇåÐÂ</a>,\n",
       " <a href=\"http://www.meizitu.com/a/nvshen.html\" target=\"_blank\" title=\"Å®Éñ\">Å®Éñ</a>,\n",
       " <a href=\"http://www.meizitu.com/a/qizhi.html\" target=\"_blank\" title=\"ÆøÖÊÃÀÅ®\">ÆøÖÊÃÀÅ®</a>,\n",
       " <a href=\"http://www.meizitu.com/a/mote.html\" target=\"_blank\" title=\"ÄÛÄ£\">ÄÛÄ£</a>,\n",
       " <a href=\"http://www.meizitu.com/a/mote.html\" target=\"_blank\" title=\"³µÄ£\">³µÄ£</a>,\n",
       " <a href=\"http://www.meizitu.com/a/bijini.html\" target=\"_blank\" title=\"±È»ùÄá\">±È»ùÄá</a>,\n",
       " <a href=\"http://www.meizitu.com/a/baobei.html\" target=\"_blank\" title=\"×ãÇò±¦±´\">×ãÇò±¦±´</a>,\n",
       " <a href=\"http://www.meizitu.com/a/luoli.html\" target=\"_blank\" title=\"ÂÜÀò\">ÂÜÀò</a>,\n",
       " <a href=\"http://www.meizitu.com/a/wangluo.html\" target=\"_blank\" title=\"90ºó\">90ºó</a>,\n",
       " <a href=\"http://www.meizitu.com/a/rihan.html\" target=\"_blank\" title=\"ÈÕº«ÃÀÅ®\">ÈÕº«ÃÀÅ®</a>,\n",
       " <a href=\"http://www.meizitu.com/a/oumei.html\" target=\"_blank\" title=\"Å·ÃÀÃÀÅ®\">Å·ÃÀÃÀÅ®</a>,\n",
       " <a href=\"http://www.meizitu.com/a/5342.html\" target=\"_blank\" title=\"½¿Ð¡¿É°®µÄÃÃ×Ó´øÀ´Å®ÆÍµÄÓÕ»ó\">½¿Ð¡¿É°®µÄÃÃ×Ó´øÀ´Å®ÆÍµÄÓÕ»ó</a>,\n",
       " <a href=\"http://www.meizitu.com/a/5342.html\" target=\"_blank\" title=\"½¿Ð¡¿É°®µÄÃÃ×Ó´øÀ´Å®ÆÍµÄÓÕ»ó\"><img src=\"http://pic.meizitu.com/wp-content/uploads/2016a/04/02/01.jpg\" style=\"width:100%;\"/></a>,\n",
       " <a href=\"http://www.meizitu.com/a/5341.html\" target=\"_blank\" title=\"Í¯ÑÕ¾ÞÈéÈÕ±¾Å®ÐÇº£Ì²Õ¹ÏÖ·áÂúÉí²Ä\">Í¯ÑÕ¾ÞÈéÈÕ±¾Å®ÐÇº£Ì²Õ¹ÏÖ·áÂúÉí²Ä</a>,\n",
       " <a href=\"http://www.meizitu.com/a/5341.html\" target=\"_blank\" title=\"Í¯ÑÕ¾ÞÈéÈÕ±¾Å®ÐÇº£Ì²Õ¹ÏÖ·áÂúÉí²Ä\"><img src=\"http://pic.meizitu.com/wp-content/uploads/2016a/04/01/01.jpg\" style=\"width:100%;\"/></a>,\n",
       " <a href=\"http://www.meizitu.com/a/5340.html\" target=\"_blank\" title=\"ÇåÁ¹Ò»ÏÄµÄ¾øÃÀÃÃ×ÓÎªÄãÏ×ÉÏ·ÉÎÇ\">ÇåÁ¹Ò»ÏÄµÄ¾øÃÀÃÃ×ÓÎªÄãÏ×ÉÏ·ÉÎÇ</a>,\n",
       " <a href=\"http://www.meizitu.com/a/5340.html\" target=\"_blank\" title=\"ÇåÁ¹Ò»ÏÄµÄ¾øÃÀÃÃ×ÓÎªÄãÏ×ÉÏ·ÉÎÇ\"><img src=\"http://pic.meizitu.com/wp-content/uploads/2016a/03/20/01.jpg\" style=\"width:100%;\"/></a>,\n",
       " <a href=\"http://www.meizitu.com/a/5339.html\" target=\"_blank\" title=\"ÆøÖÊÉí²Ä¾ã¼ÑµÄÅ®Éñ£¬Ð¦ÆðÀ´·Ç³£ÃÔÈË\">ÆøÖÊÉí²Ä¾ã¼ÑµÄÅ®Éñ£¬Ð¦ÆðÀ´·Ç³£ÃÔÈË</a>,\n",
       " <a href=\"http://www.meizitu.com/a/5339.html\" target=\"_blank\" title=\"ÆøÖÊÉí²Ä¾ã¼ÑµÄÅ®Éñ£¬Ð¦ÆðÀ´·Ç³£ÃÔÈË\"><img src=\"http://pic.meizitu.com/wp-content/uploads/2016a/03/19/01.jpg\" style=\"width:100%;\"/></a>,\n",
       " <a href=\"http://www.meizitu.com/a/5338.html\" target=\"_blank\" title=\"Çà´ºµÄÎ¶µÀ£¬ÏÄÌìÀïÐ£·þºÍ´¿ÃÃ×Ó¸üÅäàÞ\">Çà´ºµÄÎ¶µÀ£¬ÏÄÌìÀïÐ£·þºÍ´¿ÃÃ×Ó¸üÅäàÞ</a>,\n",
       " <a href=\"http://www.meizitu.com/a/5338.html\" target=\"_blank\" title=\"Çà´ºµÄÎ¶µÀ£¬ÏÄÌìÀïÐ£·þºÍ´¿ÃÃ×Ó¸üÅäàÞ\"><img src=\"http://pic.meizitu.com/wp-content/uploads/2016a/03/18/01.jpg\" style=\"width:100%;\"/></a>,\n",
       " <a href=\"http://www.meizitu.com/a/5337.html\" target=\"_blank\" title=\"Å£×Ð±³´ø¿ã£¬·áÂú°×ðªÄÛÄ£µÄÒ»¿ÅÉÙÅ®ÐÄ\">Å£×Ð±³´ø¿ã£¬·áÂú°×ðªÄÛÄ£µÄÒ»¿ÅÉÙÅ®ÐÄ</a>,\n",
       " <a href=\"http://www.meizitu.com/a/5337.html\" target=\"_blank\" title=\"Å£×Ð±³´ø¿ã£¬·áÂú°×ðªÄÛÄ£µÄÒ»¿ÅÉÙÅ®ÐÄ\"><img src=\"http://pic.meizitu.com/wp-content/uploads/2016a/03/17/01.jpg\" style=\"width:100%;\"/></a>,\n",
       " <a href=\"http://www.meizitu.com/a/5336.html\" target=\"_blank\" title=\"Ò»²¨ÈÕ±¾ÃÃ×ÓÉîÒ¹À´Ï®£¬µº¹úÃÃ×ÓÑÕÖµ¸ß\">Ò»²¨ÈÕ±¾ÃÃ×ÓÉîÒ¹À´Ï®£¬µº¹úÃÃ×ÓÑÕÖµ¸ß</a>,\n",
       " <a href=\"http://www.meizitu.com/a/5336.html\" target=\"_blank\" title=\"Ò»²¨ÈÕ±¾ÃÃ×ÓÉîÒ¹À´Ï®£¬µº¹úÃÃ×ÓÑÕÖµ¸ß\"><img src=\"http://pic.meizitu.com/wp-content/uploads/2016a/03/16/01.jpg\" style=\"width:100%;\"/></a>,\n",
       " <a href=\"http://www.meizitu.com/a/5335.html\" target=\"_blank\" title=\"ÉîÒ¹³©ÁÄ£¬ÄÄÕÅÍ¼×îÄÜÈÇÄãåÚË¼£¿\">ÉîÒ¹³©ÁÄ£¬ÄÄÕÅÍ¼×îÄÜÈÇÄãåÚË¼£¿</a>,\n",
       " <a href=\"http://www.meizitu.com/a/5335.html\" target=\"_blank\" title=\"ÉîÒ¹³©ÁÄ£¬ÄÄÕÅÍ¼×îÄÜÈÇÄãåÚË¼£¿\"><img src=\"http://pic.meizitu.com/wp-content/uploads/2016a/03/15/01.jpg\" style=\"width:100%;\"/></a>,\n",
       " <a href=\"http://www.meizitu.com/a/5334.html\" target=\"_blank\" title=\"Çå´¿¿ÉÈËµÄ»¤Ê¿ÃÃÖ½£¬ÄÜÈÚ»¯²¡ÈËµÄ´àÈõ\">Çå´¿¿ÉÈËµÄ»¤Ê¿ÃÃÖ½£¬ÄÜÈÚ»¯²¡ÈËµÄ´àÈõ</a>,\n",
       " <a href=\"http://www.meizitu.com/a/5334.html\" target=\"_blank\" title=\"Çå´¿¿ÉÈËµÄ»¤Ê¿ÃÃÖ½£¬ÄÜÈÚ»¯²¡ÈËµÄ´àÈõ\"><img src=\"http://pic.meizitu.com/wp-content/uploads/2016a/03/14/01.jpg\" style=\"width:100%;\"/></a>,\n",
       " <a href=\"http://www.meizitu.com/a/5333.html\" target=\"_blank\" title=\"·ÛÉ«ÏµµÄÍÃÅ®ÀÉ£¬±ðÖÂµÄÃÀÀö\">·ÛÉ«ÏµµÄÍÃÅ®ÀÉ£¬±ðÖÂµÄÃÀÀö</a>,\n",
       " <a href=\"http://www.meizitu.com/a/5333.html\" target=\"_blank\" title=\"·ÛÉ«ÏµµÄÍÃÅ®ÀÉ£¬±ðÖÂµÄÃÀÀö\"><img src=\"http://pic.meizitu.com/wp-content/uploads/2016a/03/13/01.jpg\" style=\"width:100%;\"/></a>,\n",
       " <a href=\"http://www.meizitu.com/tag/suxiong_17_1.html\" style=\"color:#FD6E9F;\" target=\"_blank\" title=\"ËÖÐØ\">ËÖÐØ</a>,\n",
       " <a href=\"http://www.meizitu.com/tag/shaonv_404_1.html\" target=\"_blank\" title=\"ÉÙÅ®\">ÉÙÅ®</a>,\n",
       " <a href=\"http://www.meizitu.com/tag/sifang_18_1.html\" target=\"_blank\" title=\"Ë½·¿\">Ë½·¿</a>,\n",
       " <a href=\"http://www.meizitu.com/tag/meitui_13_1.html\" style=\"color:#FD6E9F;\" target=\"_blank\" title=\"ÃÀÍÈ\">ÃÀÍÈ</a>,\n",
       " <a href=\"http://www.meizitu.com/tag/juru_31_1.html\" style=\"color:#FD6E9F;\" target=\"_blank\" title=\"¾ÞÈé\">¾ÞÈé</a>,\n",
       " <a href=\"http://www.meizitu.com/tag/qingchun_32_1.html\" target=\"_blank\" title=\"Çå´¿\">Çå´¿</a>,\n",
       " <a href=\"http://www.meizitu.com/tag/keai_64_1.html\" target=\"_blank\" title=\"¿É°®\">¿É°®</a>,\n",
       " <a href=\"http://www.meizitu.com/tag/meitun_42_1.html\" target=\"_blank\" title=\"ÃÀÍÎ\">ÃÀÍÎ</a>,\n",
       " <a href=\"http://www.meizitu.com/tag/quanluo_4_1.html\" rel=\"nofollow\" target=\"_blank\" title=\"È«Âã\">È«Âã</a>,\n",
       " <a href=\"http://www.meizitu.com/tag/nvshen_460_1.html\" target=\"_blank\" title=\"Å®Éñ\">Å®Éñ</a>,\n",
       " <a href=\"http://www.meizitu.com/tag/chengshu_487_1.html\" target=\"_blank\" title=\"³ÉÊì\">³ÉÊì</a>,\n",
       " <a href=\"http://www.meizitu.com/tag/qizhi_53_1.html\" target=\"_blank\" title=\"ÆøÖÊ\">ÆøÖÊ</a>,\n",
       " <a href=\"http://www.meizitu.com/tag/mote_6_1.html\" target=\"_blank\" title=\"Ä£ÌØ\">Ä£ÌØ</a>,\n",
       " <a href=\"http://www.meizitu.com/tag/banluo_5_1.html\" rel=\"nofollow\" target=\"_blank\" title=\"°ëÂã\">°ëÂã</a>,\n",
       " <a href=\"http://www.meizitu.com/tag/zhangwanyou_46_1.html\" style=\"color:#FD6E9F;\" target=\"_blank\" title=\"ÕÅÍñÓÆ\">ÕÅÍñÓÆ</a>,\n",
       " <a href=\"http://www.meizitu.com/tag/liyingzhi_281_1.html\" target=\"_blank\" title=\"ÀîÓ±Ö¥\">ÀîÓ±Ö¥</a>,\n",
       " <a href=\"http://www.meizitu.com/tag/jinmeixin_87_1.html\" target=\"_blank\" title=\"½ðÃÀÐÁ\">½ðÃÀÐÁ</a>,\n",
       " <a href=\"http://www.meizitu.com/tag/yezixuan_19_1.html\" style=\"color:#FD6E9F;\" target=\"_blank\" title=\"Ò¶è÷Ýæ\">Ò¶è÷Ýæ</a>,\n",
       " <a href=\"http://www.meizitu.com/tag/yuzhiqing_29_1.html\" style=\"color:#FD6E9F;\" target=\"_blank\" title=\"ÓÚÜÆÇç\">ÓÚÜÆÇç</a>,\n",
       " <a href=\"http://www.meizitu.com/tag/zhangyou_161_1.html\" target=\"_blank\" title=\"ÕÅÓÅ\">ÕÅÓÅ</a>,\n",
       " <a href=\"http://www.meizitu.com/tag/limengtian_91_1.html\" target=\"_blank\" title=\"ÀèÃÎÌñ\">ÀèÃÎÌñ</a>,\n",
       " <a href=\"http://www.meizitu.com/tag/xiaxiaowei_107_1.html\" target=\"_blank\" title=\"ÏÄÐ¡Þ±\">ÏÄÐ¡Þ±</a>,\n",
       " <a href=\"http://www.meizitu.com/tag/zhouweitong_62_1.html\" style=\"color:#FD6E9F;\" target=\"_blank\" title=\"ÖÜÎ¤Í®\">ÖÜÎ¤Í®</a>,\n",
       " <a href=\"http://www.meizitu.com/tag/lishasha_3_1.html\" target=\"_blank\" title=\"ÀîÉ³É³\">ÀîÉ³É³</a>,\n",
       " <a href=\"http://www.meizitu.com/tag/liqixi_434_1.html\" target=\"_blank\" title=\"ÀîÆßÏ²\">ÀîÆßÏ²</a>,\n",
       " <a href=\"http://www.meizitu.com/tag/gong_fei_44_1.html\" target=\"_blank\" title=\"¹¨«h·Æ\">¹¨«h·Æ</a>,\n",
       " <a href=\"http://www.meizitu.com/tag/wangruier_451_1.html\" target=\"_blank\" title=\"ÍõÈð¶ù\">ÍõÈð¶ù</a>,\n",
       " <a href=\"http://www.meizitu.com/tag/anruitian_108_1.html\" target=\"_blank\" title=\"°²ÈðÌð\">°²ÈðÌð</a>,\n",
       " <a href=\"http://www.meizitu.com/tag/waiwai_38_1.html\" target=\"_blank\" title=\"ÍáÍá\">ÍáÍá</a>,\n",
       " <a href=\"http://www.meizitu.com/a/5307.html\" target=\"_blank\"><img alt=\"±òÔ­ÐÓÁ§³Ô±ùä¿ÁÜµÄÓÕÈËÉñÌ¬\" src=\"http://pic.meizitu.com/wp-content/uploads/2016a/02/16/limg.jpg\"/></a>,\n",
       " <a href=\"http://www.meizitu.com/a/5283.html\" target=\"_blank\"><img alt=\"ÇÎÆ¤¾í·¢ÃÀÃ¼Å×ÃÄÑÛÓÕ»óÖÚÈË\" src=\"http://pic.meizitu.com/wp-content/uploads/2016a/01/20/limg.jpg\"/></a>,\n",
       " <a href=\"http://www.meizitu.com/a/5325.html\" target=\"_blank\"><img alt=\"ÄÇÐ©Çå´¿µÄÑøÑÛÃÀÅ®Í¼Æ¬-23\" src=\"http://pic.meizitu.com/wp-content/uploads/2016a/03/05/limg.jpg\"/></a>,\n",
       " <a href=\"http://www.meizitu.com/a/5339.html\" target=\"_blank\"><img alt=\"ÆøÖÊÉí²Ä¾ã¼ÑµÄÅ®Éñ£¬Ð¦ÆðÀ´·Ç³£\" src=\"http://pic.meizitu.com/wp-content/uploads/2016a/03/19/limg.jpg\"/></a>,\n",
       " <a href=\"http://www.meizitu.com/a/5332.html\" target=\"_blank\"><img alt=\"ÃÀ£¨bao£©ÐØ£¨ru£©Å®Íõ´øÀ´ÖÆ·þ\" src=\"http://pic.meizitu.com/wp-content/uploads/2016a/03/12/limg.jpg\"/></a>,\n",
       " <a href=\"http://www.meizitu.com/a/5301.html\" target=\"_blank\"><img alt=\"³¬ÃÀ£¬´¿´¿µÄÄãÓëÀ¶À¶µÄÌìÏàµÃÒæ\" src=\"http://pic.meizitu.com/wp-content/uploads/2016a/02/10/limg.jpg\"/></a>,\n",
       " <a href=\"http://www.meizitu.com/a/5334.html\" target=\"_blank\"><img alt=\"Çå´¿¿ÉÈËµÄ»¤Ê¿ÃÃÖ½£¬ÄÜÈÚ»¯²¡ÈË\" src=\"http://pic.meizitu.com/wp-content/uploads/2016a/03/14/limg.jpg\"/></a>,\n",
       " <a href=\"http://www.meizitu.com/a/5317.html\" target=\"_blank\"><img alt=\"Ã¿ÌìÕö¿ªÑÛ¿´µ½ÃÀºÃµÄÄã£¬±ãÊÇÐÒ\" src=\"http://pic.meizitu.com/wp-content/uploads/2016a/02/26/limg.jpg\"/></a>,\n",
       " <a href=\"http://www.sifangsex.com/tuku/?ad=meizitu1\" rel=\"nofollow\" target=\"_blank\"><img alt=\"\" src=\"http://www.meizitu.com/wp-content/uploads/img/hezuo01.jpg\"/></a>,\n",
       " <a href=\"http://www.sifangsex.com/tuku/?ad=meizitu2\" rel=\"nofollow\" target=\"_blank\"><img alt=\"\" src=\"http://www.meizitu.com/wp-content/uploads/img/hezuo02.jpg\"/></a>,\n",
       " <a href=\"http://www.sifangsex.com/a/qinggan/2013/807.html?ad=meizitu3\" rel=\"nofollow\" target=\"_blank\">Íâ±í¿´³öÅ®ÈËµÄ×ö°®Ï°¹ß</a>,\n",
       " <a href=\"http://www.sifangsex.com/a/qinggan/2013/758.html?ad=meizitu3\" rel=\"nofollow\" target=\"_blank\">ÍÑµôËýÐÔ¸ÐÒÂ·þÎÒÃ÷°×ÁËÒ»ÇÐ</a>,\n",
       " <a href=\"http://www.sifangsex.com/a/jiankang/2013/135.html?ad=meizitu3\" rel=\"nofollow\" target=\"_blank\">Å®ÐÔµÄ×ÔÎ¿´óÈ«Óë×¢Òâ</a>,\n",
       " <a href=\"http://www.sifangsex.com/a/wenhua/2013/670.html?ad=meizitu3\" rel=\"nofollow\" target=\"_blank\">ÄÐÈË¾ø¶Ô°Ñ³Ö²»×¡µÄ°µÊ¾</a>,\n",
       " <a href=\"http://www.sifangsex.com/\" target=\"_blank\">Á½ÐÔË½·¿Íø</a>,\n",
       " <a href=\"http://www.mmxzg.com/\" target=\"_blank\">ÐÔ¸ÐÃÀÅ®Í¼Æ¬</a>,\n",
       " <a href=\"http://www.mmlin.com\" target=\"_blank\">ÁÖÃÃÃÃÃÀÅ®</a>,\n",
       " <a href=\"http://www.spiritsoft.cn/\" target=\"_blank\">Á÷Á¿¾«Áé</a>,\n",
       " <a href=\"http://www.xiaozhishi.net\" target=\"_blank\">Ð¡ÖªÊ¶</a>,\n",
       " <a href=\"http://www.5542.cc\" target=\"_blank\">ÃÀÅ®Ð´Õæ</a>,\n",
       " <a href=\"http://www.mtu5.com\" target=\"_blank\">ÃÀÍ¼ÎÝ</a>,\n",
       " <a href=\"http://www.haoxiao8.com\" target=\"_blank\">ºÃÐ¦°É</a>,\n",
       " <a href=\"http://www.gifxiu.com\" target=\"_blank\">Ð°¶ñ¶¯Ì¬Í¼</a>,\n",
       " <a href=\"http://www.27270.com\" target=\"_blank\">Í¼Æ¬´óÈ«</a>,\n",
       " <a href=\"http://www.17786.com\" target=\"_blank\">ÃÀÅ®Í¼Æ¬</a>,\n",
       " <a href=\"http://www.youqu.net\" target=\"_blank\">ÓÐÈ¤°É</a>,\n",
       " <a href=\"http://www.xiaobaixitong.com\" target=\"_blank\">ÏµÍ³ÖØ×°</a>,\n",
       " <a href=\"http://www.69345.com\" target=\"_blank\">ÃÀÅ®Í¼Æ¬</a>]"
      ]
     },
     "execution_count": 7,
     "metadata": {},
     "output_type": "execute_result"
    }
   ],
   "source": [
    "#网址\n",
    "soup.find_all('a',target='_blank')"
   ]
  },
  {
   "cell_type": "code",
   "execution_count": 17,
   "metadata": {
    "collapsed": false
   },
   "outputs": [],
   "source": [
    "webs=soup.find_all('a',target='_blank')\n"
   ]
  },
  {
   "cell_type": "code",
   "execution_count": 23,
   "metadata": {
    "collapsed": false
   },
   "outputs": [
    {
     "name": "stdout",
     "output_type": "stream",
     "text": [
      "http://www.meizitu.com/a/5317.html\n"
     ]
    }
   ],
   "source": [
    "print(webs[0]['href'])#新方法"
   ]
  },
  {
   "cell_type": "code",
   "execution_count": 24,
   "metadata": {
    "collapsed": false
   },
   "outputs": [
    {
     "data": {
      "text/plain": [
       "'http://www.meizitu.com/a/5317.html'"
      ]
     },
     "execution_count": 24,
     "metadata": {},
     "output_type": "execute_result"
    }
   ],
   "source": [
    "#get网址\n",
    "str(soup.find_all('a',target='_blank')[0]).split(' ')[1].split('=')[1][1:-1]"
   ]
  },
  {
   "cell_type": "code",
   "execution_count": 25,
   "metadata": {
    "collapsed": false
   },
   "outputs": [],
   "source": [
    "#这个网页里有图片\n",
    "res=requests.get('http://www.meizitu.com/a/5317.html')\n",
    "s=BeautifulSoup(res.text,'lxml')\n"
   ]
  },
  {
   "cell_type": "code",
   "execution_count": 27,
   "metadata": {
    "collapsed": false
   },
   "outputs": [
    {
     "data": {
      "text/plain": [
       "[<img alt=\"ÍøÂçÃÀÅ®£¬µÚ1ÕÅ\" src=\"http://pic.meizitu.com/wp-content/uploads/2016a/02/26/01.jpg\"/>,\n",
       " <img alt=\"ÍøÂçÃÀÅ®£¬µÚ2ÕÅ\" src=\"http://pic.meizitu.com/wp-content/uploads/2016a/02/26/02.jpg\"/>,\n",
       " <img alt=\"ÍøÂçÃÀÅ®£¬µÚ3ÕÅ\" src=\"http://pic.meizitu.com/wp-content/uploads/2016a/02/26/03.jpg\"/>,\n",
       " <img alt=\"ÍøÂçÃÀÅ®£¬µÚ4ÕÅ\" src=\"http://pic.meizitu.com/wp-content/uploads/2016a/02/26/04.jpg\"/>,\n",
       " <img alt=\"ÍøÂçÃÀÅ®£¬µÚ5ÕÅ\" src=\"http://pic.meizitu.com/wp-content/uploads/2016a/02/26/05.jpg\"/>,\n",
       " <img alt=\"ÍøÂçÃÀÅ®£¬µÚ6ÕÅ\" src=\"http://pic.meizitu.com/wp-content/uploads/2016a/02/26/06.jpg\"/>,\n",
       " <img alt=\"ÍøÂçÃÀÅ®£¬µÚ7ÕÅ\" src=\"http://pic.meizitu.com/wp-content/uploads/2016a/02/26/07.jpg\"/>,\n",
       " <img alt=\"ÍøÂçÃÀÅ®£¬µÚ8ÕÅ\" src=\"http://pic.meizitu.com/wp-content/uploads/2016a/02/26/08.jpg\"/>,\n",
       " <img alt=\"ÍøÂçÃÀÅ®£¬µÚ9ÕÅ\" src=\"http://pic.meizitu.com/wp-content/uploads/2016a/02/26/09.jpg\"/>,\n",
       " <img alt=\"ÍøÂçÃÀÅ®£¬µÚ10ÕÅ\" src=\"http://pic.meizitu.com/wp-content/uploads/2016a/02/26/10.jpg\"/>,\n",
       " <img alt=\"ÃÃ×ÓÍ¼Î¢ÐÅ\" src=\"http://www.meizitu.com/images/erweima.jpg\"/>,\n",
       " <img alt=\"Ä£ÌØº«ê¿âùÕ¹ÏÖÅ®ÐÔÃÀÃîµÄÏßÌõÃÀ\" src=\"http://pic.meizitu.com/wp-content/uploads/2016a/02/04/limg.jpg\"/>,\n",
       " <img alt=\"Çå´¿ÃÃ×ÓÈçÒ»ÂÆÑô¹âÎÂÅ¯Õâ¸ö¶¬Ìì\" src=\"http://pic.meizitu.com/wp-content/uploads/2016a/02/08/limg.jpg\"/>,\n",
       " <img alt=\"ÓµÓÐ½¡¿µ·ôÉ«µÄÄ£ÌØÔÚµºÉÏ±È»ùÄá\" src=\"http://pic.meizitu.com/wp-content/uploads/2016a/01/01/limg.jpg\"/>,\n",
       " <img alt=\"Ã¿ÌìÕö¿ªÑÛ¿´µ½ÃÀºÃµÄÄã£¬±ãÊÇÐÒ\" src=\"http://pic.meizitu.com/wp-content/uploads/2016a/02/26/limg.jpg\"/>,\n",
       " <img alt=\"µ±Ñô¹âÈ÷ÔÚÄãÉíÉÏ£¬³ÉÎªºó»¨Ô°ÖÐ\" src=\"http://pic.meizitu.com/wp-content/uploads/2015a/12/28/limg.jpg\"/>,\n",
       " <img alt=\"Çå´¿Ð£»¨£¬Óµ±§Ôç³¿µÄÑô¹â\" src=\"http://pic.meizitu.com/wp-content/uploads/2016a/02/22/limg.jpg\"/>,\n",
       " <img alt=\"¿É°®ÃÈÃÈßÕµÄÐ¡ÂùÑüÅÝÔè¼Ç\" src=\"http://pic.meizitu.com/wp-content/uploads/2016a/02/28/limg.jpg\"/>,\n",
       " <img alt=\"Çå´¿ÉÙÅ®³¢ÊÔÁíÀàÐ´Õæ\" src=\"http://pic.meizitu.com/wp-content/uploads/2016a/01/28/limg.jpg\"/>,\n",
       " <img alt=\"\" src=\"http://www.meizitu.com/wp-content/uploads/img/hezuo01.jpg\"/>,\n",
       " <img alt=\"\" src=\"http://www.meizitu.com/wp-content/uploads/img/hezuo02.jpg\"/>]"
      ]
     },
     "execution_count": 27,
     "metadata": {},
     "output_type": "execute_result"
    }
   ],
   "source": [
    "#找到图片的url\n",
    "s.find_all('img')"
   ]
  },
  {
   "cell_type": "code",
   "execution_count": 28,
   "metadata": {
    "collapsed": false
   },
   "outputs": [
    {
     "data": {
      "text/plain": [
       "'http://pic.meizitu.com/wp-content/uploads/2016a/02/26/01.jpg'"
      ]
     },
     "execution_count": 28,
     "metadata": {},
     "output_type": "execute_result"
    }
   ],
   "source": [
    "#得到图片\n",
    "s.find_all('img')[0]['src']"
   ]
  },
  {
   "cell_type": "markdown",
   "metadata": {},
   "source": [
    "## 保存图片 "
   ]
  },
  {
   "cell_type": "code",
   "execution_count": 43,
   "metadata": {
    "collapsed": false
   },
   "outputs": [],
   "source": [
    "path='/Users/Xing/Documents/Crawler/sexy/'\n",
    "pict_url='http://pic.meizitu.com/wp-content/uploads/2016a/02/26/01.jpg'\n",
    "picture = requests.get(pict_url)\n"
   ]
  },
  {
   "cell_type": "code",
   "execution_count": 44,
   "metadata": {
    "collapsed": false
   },
   "outputs": [],
   "source": [
    "with open(path+'1','wb') as newfile:  #图片输出\n",
    "    newfile.write(picture.content) "
   ]
  },
  {
   "cell_type": "markdown",
   "metadata": {},
   "source": [
    "## 主程序 v1 "
   ]
  },
  {
   "cell_type": "code",
   "execution_count": 2,
   "metadata": {
    "collapsed": false
   },
   "outputs": [
    {
     "name": "stdout",
     "output_type": "stream",
     "text": [
      "HTTPConnectionPool(host='www.meizitu.com', port=80): Read timed out. <a href=\"http://www.meizitu.com/a/5339.html\" target=\"_blank\"><img alt=\"ÆøÖÊÉí²Ä¾ã¼ÑµÄÅ®Éñ£¬Ð¦ÆðÀ´·Ç³£\" height=\"64\" src=\"http://pic.meizitu.com/wp-content/uploads/2016a/03/19/limg.jpg\" width=\"64\"/></a> <img alt=\"\" src=\"http://www.meizitu.com/wp-content/uploads/img/hezuo02.jpg\"/>\n"
     ]
    }
   ],
   "source": [
    "import requests\n",
    "from bs4 import BeautifulSoup\n",
    "import urllib.request\n",
    "import urllib\n",
    "url=\"http://www.meizitu.com/\"\n",
    "path='/Users/Xing/Documents/Crawler/sexy/'\n",
    "cnt=0 #照片量统计，以及作为图片名称\n",
    "visited=set()\n",
    "\n",
    "head = {'User-Agent':'Mozilla/5.0 (Windows; U; Windows NT 6.1; en-US; rv:1.9.1.6) Gecko/20091201 Firefox/3.5.6'}\n",
    "response = requests.get(url,headers=head)\n",
    "soup = BeautifulSoup(response.text,'lxml')\n",
    "webList=soup.find_all('a',target='_blank')\n",
    "for webtext in webList:\n",
    "    web_url=str(webtext).split(' ')[1].split('=')[1][1:-1]#网页的url\n",
    "    try:\n",
    "        if web_url in visited :continue #避免重复\n",
    "        if 'meizitu' not in web_url:continue #避免连接到外面网\n",
    "        photo_web=requests.get(web_url,timeout=5)\n",
    "        visited.add(web_url)\n",
    "        s=BeautifulSoup(photo_web.text,'lxml')\n",
    "        photoList=s.find_all('img')\n",
    "        for photo_text in photoList:\n",
    "            photo_url=str(photo_text).split(' ')[2].split('=')[1][1:-3]#照片url\n",
    "            if 'pic.meizitu.com' not in photo_url:continue #避免连接到外面网\n",
    "            cnt+=1\n",
    "            photo = requests.get(photo_url)\n",
    "            pass\n",
    "        if cnt>40:\n",
    "            break\n",
    "    except BaseException as e:\n",
    "        print(e,webtext,photo_text)"
   ]
  },
  {
   "cell_type": "markdown",
   "metadata": {},
   "source": [
    "## 尝试V2"
   ]
  },
  {
   "cell_type": "code",
   "execution_count": 29,
   "metadata": {
    "collapsed": true
   },
   "outputs": [],
   "source": [
    "from bs4 import BeautifulSoup\n",
    "import urllib.request\n",
    "import urllib\n",
    "url=\"http://www.meizitu.com/\"\n",
    "path='/Users/Xing/Documents/Crawler/sexy/'\n",
    "cnt=0 #照片量统计，以及作为图片名称\n",
    "visited=set()\n",
    "\n",
    "head = {'User-Agent':'Mozilla/5.0 (Windows; U; Windows NT 6.1; en-US; rv:1.9.1.6) Gecko/20091201 Firefox/3.5.6'}\n",
    "response = requests.get(url,headers=head)\n"
   ]
  },
  {
   "cell_type": "code",
   "execution_count": 39,
   "metadata": {
    "collapsed": false
   },
   "outputs": [],
   "source": [
    "soup = BeautifulSoup(response.content,'lxml',from_encoding='gbk')"
   ]
  },
  {
   "cell_type": "code",
   "execution_count": 41,
   "metadata": {
    "collapsed": false
   },
   "outputs": [],
   "source": [
    "TimeOut=5\n",
    "site = \"http://www.meizitu.com/a/5318.html\" \n",
    "Page = requests.session().get(site,headers=head,timeout=TimeOut)\n",
    "Coding =  (Page.encoding)\n"
   ]
  },
  {
   "cell_type": "code",
   "execution_count": 42,
   "metadata": {
    "collapsed": false
   },
   "outputs": [
    {
     "data": {
      "text/plain": [
       "<!DOCTYPE html PUBLIC \"-//W3C//DTD XHTML 1.0 Transitional//EN\" \"http://www.w3.org/TR/xhtml1/DTD/xhtml1-transitional.dtd\">\n",
       "<html xmlns=\"http://www.w3.org/1999/xhtml\">\n",
       "<head>\n",
       "<meta content=\"text/html; charset=utf-8\" http-equiv=\"Content-Type\"/>\n",
       "<title>有自信迷人的笑容，每天都是灿烂的 | 妹子图</title>\n",
       "<meta content=\"自信迷人,清纯美美\" name=\"keywords\"/>\n",
       "<script type=\"text/javascript\">\n",
       "if(/AppleWebKit.*mobile/i.test(navigator.userAgent) || (/MIDP|SymbianOS|NOKIA|SAMSUNG|LG|NEC|TCL|Alcatel|BIRD|DBTEL|Dopod|PHILIPS|HAIER|LENOVO|MOT-|Nokia|SonyEricsson|SIE-|Amoi|ZTE/.test(navigator.userAgent))){\n",
       "    if(window.location.href.indexOf(\"?mobile\")<0){\n",
       "        try{\n",
       "            if(/Android|webOS|iPhone|iPod|BlackBerry/i.test(navigator.userAgent)){\n",
       "                window.location.href=\"http://m.meizitu.com/a/5318.html\";\n",
       "            }else if(/iPad/i.test(navigator.userAgent)){\n",
       "                window.location.href=\"http://m.meizitu.com/a/5318.html\";\n",
       "            }else{\n",
       "                window.location.href=\"http://m.meizitu.com/a/5318.html\"\n",
       "            }\n",
       "        }catch(e){}\n",
       "    }\n",
       "}\n",
       "</script>\n",
       "<meta content=\"无论是小清新,模特,还是其他妹子,我们每天都精挑细选,精彩的妹子图每天都有不一样的呈现\" name=\"description\"/>\n",
       "<link href=\"http://www.meizitu.com/templets/meizi/css/init.css\" rel=\"stylesheet\" type=\"text/css\"/>\n",
       "<link href=\"http://www.meizitu.com/templets/meizi/css/style.css\" rel=\"stylesheet\" type=\"text/css\"/>\n",
       "<link href=\"http://www.meizitu.com/templets/meizi/css/wp_page_numbers.css\" rel=\"stylesheet\" type=\"text/css\"/>\n",
       "<script src=\"http://www.meizitu.com/templets/meizi/js/jquery.min.js\" type=\"text/javascript\"></script>\n",
       "<!-- 请置于所有广告位代码之前 -->\n",
       "<script src=\"http://cbjs.baidu.com/js/m.js\" type=\"text/javascript\"></script>\n",
       "<script>\n",
       "var _hmt = _hmt || [];\n",
       "(function() {\n",
       "  var hm = document.createElement(\"script\");\n",
       "  hm.src = \"//hm.baidu.com/hm.js?a01ff1f91d0b936673f038453940cdb9\";\n",
       "  var s = document.getElementsByTagName(\"script\")[0]; \n",
       "  s.parentNode.insertBefore(hm, s);\n",
       "})();\n",
       "</script>\n",
       "</head>\n",
       "<body>\n",
       "<div id=\"wrapper\">\n",
       "<div id=\"header\">\n",
       "<h1><a href=\"http://www.meizitu.com/\"><span>妹子图</span></a></h1>\n",
       "<div class=\"toplink\">[ <span style=\"color:red\">妹子图的全拼，非常好记！</span>] <span>微信号：meizitu_com</span><a href=\"http://www.meizitu.com/aboutus.html\">关于妹子图</a></div>\n",
       "</div>\n",
       "<div id=\"container\">\n",
       "<div id=\"subcontent clearfix\">\n",
       "<div class=\"picnew clearfix\" style=\"padding-bottom:18px; padding-left:15px;\">\n",
       "<script charset=\"gb2312\" src=\"http://e.e70123.com/cpc/index.php?50056_0_1_0|1|2_d70000__\"></script>\n",
       "</div>\n",
       "<div class=\"tags\">\n",
       "<h2>美女分类:</h2>\n",
       "<span>\n",
       "<a href=\"http://www.meizitu.com/a/xinggan.html\" target=\"_blank\" title=\"性感\">性感</a>\n",
       "<a href=\"http://www.meizitu.com/a/xinggan.html\" target=\"_blank\" title=\"浴室\">浴室</a>\n",
       "<a href=\"http://www.meizitu.com/a/sifang.html\" target=\"_blank\" title=\"私房\">私房</a>\n",
       "<a href=\"http://www.meizitu.com/a/sifang.html\" target=\"_blank\" title=\"美腿\">美腿</a>\n",
       "<a href=\"http://www.meizitu.com/a/qingchun.html\" target=\"_blank\" title=\"清纯\">清纯</a>\n",
       "<a href=\"http://www.meizitu.com/a/qingchun.html\" target=\"_blank\" title=\"甜美\">甜美</a>\n",
       "<a href=\"http://www.meizitu.com/a/qingchun.html\" target=\"_blank\" title=\"治愈系\">治愈系</a>\n",
       "<a href=\"http://www.meizitu.com/a/meizi.html\" target=\"_blank\" title=\"萌妹子\">萌妹子</a>\n",
       "<a href=\"http://www.meizitu.com/a/xiaoqingxin.htm\" target=\"_blank\" title=\"小清新\">小清新</a>\n",
       "<a href=\"http://www.meizitu.com/a/nvshen.html\" target=\"_blank\" title=\"女神\">女神</a>\n",
       "<a href=\"http://www.meizitu.com/a/qizhi.html\" target=\"_blank\" title=\"气质美女\">气质美女</a>\n",
       "<a href=\"http://www.meizitu.com/a/mote.html\" target=\"_blank\" title=\"嫩模\">嫩模</a>\n",
       "<a href=\"http://www.meizitu.com/a/mote.html\" target=\"_blank\" title=\"车模\">车模</a>\n",
       "<a href=\"http://www.meizitu.com/a/bijini.html\" target=\"_blank\" title=\"比基尼\">比基尼</a>\n",
       "<a href=\"http://www.meizitu.com/a/baobei.html\" target=\"_blank\" title=\"足球宝贝\">足球宝贝</a>\n",
       "<a href=\"http://www.meizitu.com/a/luoli.html\" target=\"_blank\" title=\"萝莉\">萝莉</a>\n",
       "<a href=\"http://www.meizitu.com/a/wangluo.html\" target=\"_blank\" title=\"90后\">90后</a>\n",
       "<a href=\"http://www.meizitu.com/a/rihan.html\" target=\"_blank\" title=\"日韩美女\">日韩美女</a>\n",
       "<a href=\"http://www.meizitu.com/a/oumei.html\" target=\"_blank\" title=\"欧美美女\">欧美美女</a>\n",
       "</span>\n",
       "</div>\n",
       "</div>\n",
       "<div id=\"pagecontent\">\n",
       "<div id=\"maincontent\">\n",
       "<!--循环开始-->\n",
       "<div class=\"postmeta clearfix\">\n",
       "<div class=\"metaRight\">\n",
       "<h2><a href=\"http://www.meizitu.com/a/5318.html\">有自信迷人的笑容，每天都是灿烂的</a></h2>\n",
       "<p>Tags:迷人 , 自信 , \n",
       "    </p></div>\n",
       "<div class=\"metaLeft\">\n",
       "<div class=\"day\">03</div>\n",
       "<div class=\"month_Year\">03 2016</div>\n",
       "</div>\n",
       "</div>\n",
       "<div class=\"postContent\">\n",
       "<p></p><div id=\"picture\">\n",
       "<p>\n",
       "<img alt=\"自信迷人的笑容，第1张\" src=\"http://pic.meizitu.com/wp-content/uploads/2016a/02/27/01.jpg\"/><br/>\n",
       "<img alt=\"自信迷人的笑容，第2张\" src=\"http://pic.meizitu.com/wp-content/uploads/2016a/02/27/02.jpg\"/><br/>\n",
       "<img alt=\"自信迷人的笑容，第3张\" src=\"http://pic.meizitu.com/wp-content/uploads/2016a/02/27/03.jpg\"/><br/>\n",
       "<img alt=\"自信迷人的笑容，第4张\" src=\"http://pic.meizitu.com/wp-content/uploads/2016a/02/27/04.jpg\"/><br/>\n",
       "<img alt=\"自信迷人的笑容，第5张\" src=\"http://pic.meizitu.com/wp-content/uploads/2016a/02/27/05.jpg\"/><br/>\n",
       "<img alt=\"自信迷人的笑容，第6张\" src=\"http://pic.meizitu.com/wp-content/uploads/2016a/02/27/06.jpg\"/><br/>\n",
       "</p>\n",
       "</div>\n",
       "<div class=\"boxinfo\">\n",
       "<div class=\"imgl\"><img alt=\"妹子图微信\" src=\"http://www.meizitu.com/images/erweima.jpg\"/></div>\n",
       "<p>有自信迷人的笑容，每天都是灿烂的 </p>\n",
       "<p>微信公众号：meizitu</p>\n",
       "<p class=\"right\">更多美女请访问meizitu.com，转载请注明图片的原出处</p>\n",
       "</div>\n",
       "<p style=\"display: none;\"> <a rel=\"tag\">迷人</a><a rel=\"tag\">自信</a> </p>\n",
       "<div style=\"overflow:hidden\"><script charset=\"utf-8\" src=\"http://vip.at98.com/cpc/i.ashx?u=315208&amp;s=0&amp;b=234&amp;w=640&amp;h=80&amp;bl=0&amp;bb=0&amp;ls=0&amp;bc=%23cccccc&amp;fc=&amp;bkc=\"></script></div>\n",
       "<!--百度推荐阅读开始-->\n",
       "<div id=\"hm_t_56108\"></div>\n",
       "<!--百度推荐阅读结束-->\n",
       "<!-- 广告位：妹子图内页底部合作 -->\n",
       "<script charset=\"gb2312\" src=\"http://e.e708.net/cpc/tj.php?50056_5_21_2_d70000__\"></script>\n",
       "<div class=\"jiashare clearfix\"><!-- Baidu Button BEGIN -->\n",
       "<div class=\"bdshare_t bds_tools_32 get-codes-bdshare\" id=\"bdshare\"> <a class=\"bds_qzone\"></a> <a class=\"bds_tsina\"></a> <a class=\"bds_tqq\"></a> <a class=\"bds_renren\"></a> <a class=\"bds_t163\"></a> <span class=\"bds_more\"></span> <a class=\"shareCount\"></a> </div>\n",
       "<script data=\"type=tools&amp;uid=0\" id=\"bdshare_js\" type=\"text/javascript\"></script>\n",
       "<script id=\"bdshell_js\" type=\"text/javascript\"></script>\n",
       "<script type=\"text/javascript\">\n",
       "document.getElementById(\"bdshell_js\").src = \"http://bdimg.share.baidu.com/static/js/shell_v2.js?cdnversion=\" + Math.ceil(new Date()/3600000)\n",
       "</script>\n",
       "<!-- Baidu Button END --></div>\n",
       "<div id=\"related_posts\">\n",
       "<h3 class=\"related_post_title\">推荐妹子图</h3>\n",
       "<ul class=\"related_post\">\n",
       "<li><a href=\"http://www.meizitu.com/a/4235.html\" rel=\"bookmark\" title=\"那些自信又可爱的妹子们，性感由自本能\">那些自信又可爱的妹子们，性感由自本能</a></li>\n",
       "<li><a href=\"http://www.meizitu.com/a/311.html\" rel=\"bookmark\" title=\"文艺甜美女生小六六六六六六情迷cafe\">文艺甜美女生小六六六六六六情迷cafe</a></li>\n",
       "<li><a href=\"http://www.meizitu.com/a/5195.html\" rel=\"bookmark\" title=\"清纯妹子眸含秋水双目澄澈\">清纯妹子眸含秋水双目澄澈</a></li>\n",
       "<li><a href=\"http://www.meizitu.com/a/133.html\" rel=\"bookmark\" title=\"清纯妹子小野：小胸也能很可爱\">清纯妹子小野：小胸也能很可爱</a></li>\n",
       "<li><a href=\"http://www.meizitu.com/a/4338.html\" rel=\"bookmark\" title=\"折纤腰以微步，清纯美眉的小女人情怀\">折纤腰以微步，清纯美眉的小女人情怀</a></li>\n",
       "<li><a href=\"http://www.meizitu.com/a/5015.html\" rel=\"bookmark\" title=\"一顾倾人城，再顾倾人国\">一顾倾人城，再顾倾人国</a></li>\n",
       "</ul>\n",
       "</div>\n",
       "</div>\n",
       "</div>\n",
       "<div id=\"sidebar\">\n",
       "<div class=\"\">\n",
       "<script charset=\"gb2312\" src=\"http://e.e70123.com/cpc/index.php?50056_2_13_0|1|2_d70000__\"></script>\n",
       "</div>\n",
       "<div class=\"cssh6\"></div>\n",
       "<div class=\"topmodel\">\n",
       "<h2>极品分类</h2>\n",
       "<ul>\n",
       "<li><a href=\"http://www.meizitu.com/tag/suxiong_17_1.html\" style=\"color:#FD6E9F;\" target=\"_blank\" title=\"酥胸\">酥胸</a></li>\n",
       "<li><a href=\"http://www.meizitu.com/tag/shaonv_404_1.html\" target=\"_blank\" title=\"少女\">少女</a></li>\n",
       "<li><a href=\"http://www.meizitu.com/tag/sifang_18_1.html\" target=\"_blank\" title=\"私房\">私房</a></li>\n",
       "<li><a href=\"http://www.meizitu.com/tag/meitui_13_1.html\" style=\"color:#FD6E9F;\" target=\"_blank\" title=\"美腿\">美腿</a></li>\n",
       "<li><a href=\"http://www.meizitu.com/tag/juru_31_1.html\" style=\"color:#FD6E9F;\" target=\"_blank\" title=\"巨乳\">巨乳</a></li>\n",
       "</ul>\n",
       "<div style=\"clear:both;\"></div>\n",
       "<ul>\n",
       "<li><a href=\"http://www.meizitu.com/tag/qingchun_32_1.html\" target=\"_blank\" title=\"清纯\">清纯</a></li>\n",
       "<li><a href=\"http://www.meizitu.com/tag/keai_64_1.html\" target=\"_blank\" title=\"可爱\">可爱</a></li>\n",
       "<li><a href=\"http://www.meizitu.com/tag/meitun_42_1.html\" target=\"_blank\" title=\"美臀\">美臀</a></li>\n",
       "<li><a href=\"http://www.meizitu.com/tag/quanluo_4_1.html\" rel=\"nofollow\" target=\"_blank\" title=\"全裸\">全裸</a></li>\n",
       "<li><a href=\"http://www.meizitu.com/tag/nvshen_460_1.html\" target=\"_blank\" title=\"女神\">女神</a></li>\n",
       "</ul>\n",
       "<div style=\"clear:both;\"></div>\n",
       "<ul>\n",
       "<li><a href=\"http://www.meizitu.com/tag/chengshu_487_1.html\" target=\"_blank\" title=\"成熟\">成熟</a></li>\n",
       "<li><a href=\"http://www.meizitu.com/tag/qizhi_53_1.html\" target=\"_blank\" title=\"气质\">气质</a></li>\n",
       "<li><a href=\"http://www.meizitu.com/tag/mote_6_1.html\" target=\"_blank\" title=\"模特\">模特</a></li>\n",
       "<li><a href=\"http://www.meizitu.com/tag/banluo_5_1.html\" rel=\"nofollow\" target=\"_blank\" title=\"半裸\">半裸</a></li>\n",
       "</ul>\n",
       "<div class=\"cssh6\" style=\"clear:both;\"></div>\n",
       "<h2>热门模特</h2>\n",
       "<ul>\n",
       "<li><a href=\"http://www.meizitu.com/tag/zhangwanyou_46_1.html\" style=\"color:#FD6E9F;\" target=\"_blank\" title=\"张婉悠\">张婉悠</a></li>\n",
       "<li><a href=\"http://www.meizitu.com/tag/liyingzhi_281_1.html\" target=\"_blank\" title=\"李颖芝\">李颖芝</a></li>\n",
       "<li><a href=\"http://www.meizitu.com/tag/jinmeixin_87_1.html\" target=\"_blank\" title=\"金美辛\">金美辛</a></li>\n",
       "<li><a href=\"http://www.meizitu.com/tag/yezixuan_19_1.html\" style=\"color:#FD6E9F;\" target=\"_blank\" title=\"叶梓萱\">叶梓萱</a></li>\n",
       "<li><a href=\"http://www.meizitu.com/tag/yuzhiqing_29_1.html\" style=\"color:#FD6E9F;\" target=\"_blank\" title=\"于芷晴\">于芷晴</a></li>\n",
       "</ul>\n",
       "<div style=\"clear:both;\"></div>\n",
       "<ul>\n",
       "<li><a href=\"http://www.meizitu.com/tag/zhangyou_161_1.html\" target=\"_blank\" title=\"张优\">张优</a></li>\n",
       "<li><a href=\"http://www.meizitu.com/tag/limengtian_91_1.html\" target=\"_blank\" title=\"黎梦恬\">黎梦恬</a></li>\n",
       "<li><a href=\"http://www.meizitu.com/tag/xiaxiaowei_107_1.html\" target=\"_blank\" title=\"夏小薇\">夏小薇</a></li>\n",
       "<li><a href=\"http://www.meizitu.com/tag/zhouweitong_62_1.html\" style=\"color:#FD6E9F;\" target=\"_blank\" title=\"周韦彤\">周韦彤</a></li>\n",
       "<li><a href=\"http://www.meizitu.com/tag/lishasha_3_1.html\" target=\"_blank\" title=\"李沙沙\">李沙沙</a></li>\n",
       "</ul>\n",
       "<div style=\"clear:both;\"></div>\n",
       "<ul>\n",
       "<li><a href=\"http://www.meizitu.com/tag/liqixi_434_1.html\" target=\"_blank\" title=\"李七喜\">李七喜</a></li>\n",
       "<li></li></ul></div></div></div></div></div></body></html>"
      ]
     },
     "execution_count": 42,
     "metadata": {},
     "output_type": "execute_result"
    }
   ],
   "source": [
    "Content = Page.content#.decode(Coding).encode('utf-8')\n",
    "ContentSoup = BeautifulSoup(Content,'lxml')\n",
    "ContentSoup"
   ]
  },
  {
   "cell_type": "code",
   "execution_count": 64,
   "metadata": {
    "collapsed": false
   },
   "outputs": [
    {
     "data": {
      "text/plain": [
       "'自信迷人的笑容，第1张'"
      ]
     },
     "execution_count": 64,
     "metadata": {},
     "output_type": "execute_result"
    }
   ],
   "source": [
    "ContentSoup.find_all('img')[0]['alt']\n"
   ]
  },
  {
   "cell_type": "code",
   "execution_count": 66,
   "metadata": {
    "collapsed": false
   },
   "outputs": [
    {
     "data": {
      "text/plain": [
       "'http://pic.meizitu.com/wp-content/uploads/2016a/02/27/05.jpg'"
      ]
     },
     "execution_count": 66,
     "metadata": {},
     "output_type": "execute_result"
    }
   ],
   "source": [
    "ContentSoup.find_all('img')[4]['src']"
   ]
  },
  {
   "cell_type": "code",
   "execution_count": 59,
   "metadata": {
    "collapsed": false
   },
   "outputs": [],
   "source": [
    " ContentSoup.find_all('a')[27].get('href')"
   ]
  },
  {
   "cell_type": "code",
   "execution_count": 67,
   "metadata": {
    "collapsed": false
   },
   "outputs": [
    {
     "data": {
      "text/plain": [
       "str"
      ]
     },
     "execution_count": 67,
     "metadata": {},
     "output_type": "execute_result"
    }
   ],
   "source": [
    "type(ContentSoup.find_all('img')[4]['src'])"
   ]
  },
  {
   "cell_type": "code",
   "execution_count": 69,
   "metadata": {
    "collapsed": false
   },
   "outputs": [
    {
     "data": {
      "text/plain": [
       "'/2016a/02/27/05.jpg'"
      ]
     },
     "execution_count": 69,
     "metadata": {},
     "output_type": "execute_result"
    }
   ],
   "source": [
    "ContentSoup.find_all('img')[4]['src'].split('uploads')[1]"
   ]
  },
  {
   "cell_type": "code",
   "execution_count": 71,
   "metadata": {
    "collapsed": false
   },
   "outputs": [
    {
     "data": {
      "text/plain": [
       "[<img alt=\"每天睁开眼看到美好的你，便是幸\" height=\"64\" src=\"http://pic.meizitu.com/wp-content/uploads/2016a/02/26/limg.jpg\" width=\"64\"/>,\n",
       " <img alt=\"有自信迷人的笑容，每天都是灿烂\" height=\"64\" src=\"http://pic.meizitu.com/wp-content/uploads/2016a/02/27/limg.jpg\" width=\"64\"/>,\n",
       " <img alt=\"气质身材俱佳的女神，笑起来非常\" height=\"64\" src=\"http://pic.meizitu.com/wp-content/uploads/2016a/03/19/limg.jpg\" width=\"64\"/>,\n",
       " <img alt=\"深夜畅聊，哪张图最吸引你眼球？\" height=\"64\" src=\"http://pic.meizitu.com/wp-content/uploads/2016a/02/29/limg.jpg\" width=\"64\"/>,\n",
       " <img alt=\"清凉一夏的绝美妹子为你献上飞吻\" height=\"64\" src=\"http://pic.meizitu.com/wp-content/uploads/2016a/03/20/limg.jpg\" width=\"64\"/>,\n",
       " <img alt=\"可爱萌萌哒的小蛮腰泡澡记\" height=\"64\" src=\"http://pic.meizitu.com/wp-content/uploads/2016a/02/28/limg.jpg\" width=\"64\"/>,\n",
       " <img alt=\"话题之――寻找NBA最美拉拉队员\" height=\"64\" src=\"http://pic.meizitu.com/wp-content/uploads/2016a/03/07/limg.jpg\" width=\"64\"/>,\n",
       " <img alt=\"美（bao）胸（ru）女王带来制服\" height=\"64\" src=\"http://pic.meizitu.com/wp-content/uploads/2016a/03/12/limg.jpg\" width=\"64\"/>,\n",
       " <img alt=\"丰满肉感的日本美胸女神筱崎爱夏\" height=\"64\" src=\"http://pic.meizitu.com/wp-content/uploads/2016a/03/04/limg.jpg\" width=\"64\"/>,\n",
       " <img alt=\"长腿嫩模窗台前撩动秀发，宛如美\" height=\"64\" src=\"http://pic.meizitu.com/wp-content/uploads/2016a/03/11/limg.jpg\" width=\"64\"/>,\n",
       " <img alt=\"那些清纯的养眼美女图片-23\" height=\"64\" src=\"http://pic.meizitu.com/wp-content/uploads/2016a/03/05/limg.jpg\" width=\"64\"/>,\n",
       " <img src=\"http://pic.meizitu.com/wp-content/uploads/2016a/04/02/01.jpg\" style=\"width:100%;\"/>,\n",
       " <img src=\"http://pic.meizitu.com/wp-content/uploads/2016a/04/01/01.jpg\" style=\"width:100%;\"/>,\n",
       " <img src=\"http://pic.meizitu.com/wp-content/uploads/2016a/03/20/01.jpg\" style=\"width:100%;\"/>,\n",
       " <img src=\"http://pic.meizitu.com/wp-content/uploads/2016a/03/19/01.jpg\" style=\"width:100%;\"/>,\n",
       " <img src=\"http://pic.meizitu.com/wp-content/uploads/2016a/03/18/01.jpg\" style=\"width:100%;\"/>,\n",
       " <img src=\"http://pic.meizitu.com/wp-content/uploads/2016a/03/17/01.jpg\" style=\"width:100%;\"/>,\n",
       " <img src=\"http://pic.meizitu.com/wp-content/uploads/2016a/03/16/01.jpg\" style=\"width:100%;\"/>,\n",
       " <img src=\"http://pic.meizitu.com/wp-content/uploads/2016a/03/15/01.jpg\" style=\"width:100%;\"/>,\n",
       " <img src=\"http://pic.meizitu.com/wp-content/uploads/2016a/03/14/01.jpg\" style=\"width:100%;\"/>,\n",
       " <img src=\"http://pic.meizitu.com/wp-content/uploads/2016a/03/13/01.jpg\" style=\"width:100%;\"/>]"
      ]
     },
     "execution_count": 71,
     "metadata": {},
     "output_type": "execute_result"
    }
   ],
   "source": [
    "site = \"http://www.meizitu.com/\" \n",
    "Page = requests.session().get(site,headers=head,timeout=TimeOut)\n",
    "Coding =  (Page.encoding)\n",
    "Content = Page.content#.decode(Coding).encode('utf-8')\n",
    "ContentSoup = BeautifulSoup(Content,'lxml')\n",
    "ContentSoup.find_all('img')"
   ]
  },
  {
   "cell_type": "code",
   "execution_count": 72,
   "metadata": {
    "collapsed": true
   },
   "outputs": [],
   "source": [
    "from multiprocessing import Pool,Manager"
   ]
  },
  {
   "cell_type": "code",
   "execution_count": 75,
   "metadata": {
    "collapsed": false
   },
   "outputs": [],
   "source": [
    "from multiprocessing import Pool,Manager,Queue"
   ]
  },
  {
   "cell_type": "code",
   "execution_count": 88,
   "metadata": {
    "collapsed": true
   },
   "outputs": [],
   "source": [
    "t=Queue()"
   ]
  },
  {
   "cell_type": "code",
   "execution_count": 89,
   "metadata": {
    "collapsed": true
   },
   "outputs": [],
   "source": [
    "t.put(1)\n",
    "t.put(2)"
   ]
  },
  {
   "cell_type": "code",
   "execution_count": 90,
   "metadata": {
    "collapsed": false
   },
   "outputs": [
    {
     "data": {
      "text/plain": [
       "1"
      ]
     },
     "execution_count": 90,
     "metadata": {},
     "output_type": "execute_result"
    }
   ],
   "source": [
    "t.get()"
   ]
  },
  {
   "cell_type": "code",
   "execution_count": 91,
   "metadata": {
    "collapsed": false
   },
   "outputs": [
    {
     "data": {
      "text/plain": [
       "2"
      ]
     },
     "execution_count": 91,
     "metadata": {},
     "output_type": "execute_result"
    }
   ],
   "source": [
    "t.get()"
   ]
  },
  {
   "cell_type": "code",
   "execution_count": 92,
   "metadata": {
    "collapsed": false
   },
   "outputs": [
    {
     "name": "stdout",
     "output_type": "stream",
     "text": [
      "1\n"
     ]
    }
   ],
   "source": [
    "if t:\n",
    "    print(1)"
   ]
  },
  {
   "cell_type": "code",
   "execution_count": 94,
   "metadata": {
    "collapsed": false
   },
   "outputs": [
    {
     "data": {
      "text/plain": [
       "True"
      ]
     },
     "execution_count": 94,
     "metadata": {},
     "output_type": "execute_result"
    }
   ],
   "source": [
    "t.empty()"
   ]
  },
  {
   "cell_type": "code",
   "execution_count": null,
   "metadata": {
    "collapsed": true
   },
   "outputs": [],
   "source": [
    "t"
   ]
  },
  {
   "cell_type": "code",
   "execution_count": 95,
   "metadata": {
    "collapsed": true
   },
   "outputs": [],
   "source": [
    "p=Pool(4)"
   ]
  },
  {
   "cell_type": "code",
   "execution_count": null,
   "metadata": {
    "collapsed": true
   },
   "outputs": [],
   "source": [
    "p."
   ]
  }
 ],
 "metadata": {
  "kernelspec": {
   "display_name": "Python 3",
   "language": "python",
   "name": "python3"
  },
  "language_info": {
   "codemirror_mode": {
    "name": "ipython",
    "version": 3
   },
   "file_extension": ".py",
   "mimetype": "text/x-python",
   "name": "python",
   "nbconvert_exporter": "python",
   "pygments_lexer": "ipython3",
   "version": "3.4.4"
  }
 },
 "nbformat": 4,
 "nbformat_minor": 0
}
